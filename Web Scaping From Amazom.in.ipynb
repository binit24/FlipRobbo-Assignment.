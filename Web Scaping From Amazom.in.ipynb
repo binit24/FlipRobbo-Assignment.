{
 "cells": [
  {
   "cell_type": "markdown",
   "metadata": {},
   "source": [
    "# Web Scraping of Mobile Phones from Amazon"
   ]
  },
  {
   "cell_type": "code",
   "execution_count": null,
   "metadata": {},
   "outputs": [],
   "source": [
    "#Importing the required Libraries:\n",
    "from bs4 import BeautifulSoup\n",
    "import requests\n",
    "from selenium import webdriver\n",
    "from selenium.webdriver.common.keys import Keys\n",
    "from selenium.webdriver.firefox.options import Options"
   ]
  },
  {
   "cell_type": "code",
   "execution_count": null,
   "metadata": {},
   "outputs": [],
   "source": [
    "#Firebox and Chrome.\n",
    "from selenium import webdriver"
   ]
  },
  {
   "cell_type": "code",
   "execution_count": null,
   "metadata": {},
   "outputs": [],
   "source": [
    "#Importing Microsoft Edge.\n",
    "#!pip install msedge-selenium-tools selenium==3.141\n",
    "from msedge.selenium_tools import Edge,EdgeOptions"
   ]
  },
  {
   "cell_type": "code",
   "execution_count": null,
   "metadata": {},
   "outputs": [],
   "source": [
    "#Now getting the request for webpage server:\n",
    "page = requests.get(\"https://www.amazon.in/s?i=electronics&bbn=1805560031&rh=n%3A976419031%2Cn%3A976420031%2Cn%3A1389401031%2Cn%3A1389432031%2Cn%3A1805560031%2Cp_85%3A10440599031%2Cp_36%3A1318507031&dc&hidden-keywords=smartphone&pf_rd_i=1389401031&pf_rd_m=A1K21FY43GMZF8&pf_rd_p=2044db61-4e9b-4b45-be42-c23ae0223180&pf_rd_r=XWPMDQXX7GNZ663EFSM7&pf_rd_s=merchandised-search-20&pf_rd_t=101&qid=1610135393&rnid=1318502031&ref=sr_nr_p_36_2\")"
   ]
  },
  {
   "cell_type": "code",
   "execution_count": null,
   "metadata": {},
   "outputs": [],
   "source": [
    "#Nows lets check the download source code file:\n",
    "page.content"
   ]
  },
  {
   "cell_type": "code",
   "execution_count": null,
   "metadata": {},
   "outputs": [],
   "source": [
    "#Now lets parse the souce code by using Beautifull soup.\n",
    "soup = BeautifulSoup(page.content,'html.parser')"
   ]
  },
  {
   "cell_type": "code",
   "execution_count": 372,
   "metadata": {},
   "outputs": [
    {
     "name": "stdout",
     "output_type": "stream",
     "text": [
      "Amazon.in: Over ₹20,000 - Prime Eligible / Smartphones / Smartphones & Basic Mobiles: Electronics\n"
     ]
    }
   ],
   "source": [
    "#Lets print the title.\n",
    "print(soup.title.text)"
   ]
  },
  {
   "cell_type": "code",
   "execution_count": null,
   "metadata": {},
   "outputs": [],
   "source": [
    "#For better visualization we wwill be using Prettify method.\n",
    "print(soup.prettify())"
   ]
  },
  {
   "cell_type": "code",
   "execution_count": 373,
   "metadata": {},
   "outputs": [],
   "source": [
    "#creating empty list:\n",
    "Names = []\n",
    "Price = []\n",
    "Customer_review = []"
   ]
  },
  {
   "cell_type": "code",
   "execution_count": 374,
   "metadata": {},
   "outputs": [],
   "source": [
    "#Using for loop and fetching tags for names.\n",
    "for i in soup.find_all('a',class_=\"a-link-normal a-text-normal\"):\n",
    "    string = i.text\n",
    "    Names.append(string.strip() )"
   ]
  },
  {
   "cell_type": "code",
   "execution_count": 375,
   "metadata": {},
   "outputs": [
    {
     "name": "stdout",
     "output_type": "stream",
     "text": [
      "['Mi 10i 5G (Pacific Sunrise, 6GB RAM, 128GB Storage) - 108MP Quad Camera | Snapdragon 750G | Upto 6 Months No Cost EMI', 'Mi 10i 5G (Atlantic Blue, 6GB RAM, 128GB Storage) - 108MP Quad Camera | Snapdragon 750G | Upto 6 Months No Cost EMI', 'OnePlus Nord 5G (Gray Ash, 12GB RAM, 256GB Storage)', 'OnePlus Nord 5G (Blue Marble, 12GB RAM, 256GB Storage)', 'Mi 10i 5G (Pacific Sunrise, 8GB RAM, 128GB Storage) - 108MP Quad Camera | Snapdragon 750G | Upto 6 Months No Cost EMI']\n"
     ]
    }
   ],
   "source": [
    "#Printing the results:\n",
    "print(Names[0:5])"
   ]
  },
  {
   "cell_type": "code",
   "execution_count": 376,
   "metadata": {},
   "outputs": [],
   "source": [
    "#Using for loop and fetching tags for Mobile.\n",
    "for i in soup.find_all('span',class_=\"a-price-whole\"):\n",
    "    string = i.text\n",
    "    Price.append(string)"
   ]
  },
  {
   "cell_type": "code",
   "execution_count": 377,
   "metadata": {},
   "outputs": [
    {
     "name": "stdout",
     "output_type": "stream",
     "text": [
      "['21,999', '21,999', '29,999', '29,999', '23,999']\n"
     ]
    }
   ],
   "source": [
    "#Printing the price results:\n",
    "print(Price[0:5])"
   ]
  },
  {
   "cell_type": "code",
   "execution_count": 378,
   "metadata": {},
   "outputs": [],
   "source": [
    "#Using for loop and fetching tags for Mobile Images:\n",
    "for i in soup.find_all('i',class_=\"a-icon a-icon-star-medium a-star-medium-4\"):\n",
    "    string = i.text\n",
    "    Customer_review.append(string.strip() )"
   ]
  },
  {
   "cell_type": "code",
   "execution_count": 379,
   "metadata": {},
   "outputs": [
    {
     "name": "stdout",
     "output_type": "stream",
     "text": [
      "4 Stars & Up\n"
     ]
    }
   ],
   "source": [
    "#Printing the average Customer review:\n",
    "print(Customer_review[0])"
   ]
  },
  {
   "cell_type": "code",
   "execution_count": null,
   "metadata": {},
   "outputs": [],
   "source": [
    "#Saving to CSV File:\n",
    "import csv\n",
    "file_name = \"Mobile_Phones\"\n",
    "with open(file_name,'w') as file:\n",
    "    writer = csv.writer(file)\n",
    "    writer.writerow(['Sr.NO','Laptop Name','Price','Customer_review'])\n",
    "    for i in range(len(Names)):\n",
    "        writer.writerow([i,Names[i],Price[i]])"
   ]
  },
  {
   "cell_type": "markdown",
   "metadata": {},
   "source": [
    "We are Going to Scrap only customer reviews from Amazon.in for Mobile Phones in new page:"
   ]
  },
  {
   "cell_type": "code",
   "execution_count": 1,
   "metadata": {},
   "outputs": [],
   "source": [
    "#Importing the required Libraries:\n",
    "from bs4 import BeautifulSoup\n",
    "import requests"
   ]
  },
  {
   "cell_type": "code",
   "execution_count": 2,
   "metadata": {},
   "outputs": [],
   "source": [
    "link = \"https://www.amazon.in/OnePlus-Mirror-Black-128GB-Storage/product-reviews/B07DJHV6VZ/ref=cm_cr_dp_d_show_all_btm?ie=UTF8&reviewerType=all_reviews\""
   ]
  },
  {
   "cell_type": "code",
   "execution_count": 3,
   "metadata": {},
   "outputs": [
    {
     "name": "stdout",
     "output_type": "stream",
     "text": [
      "Total Responses: <Response [200]>\n"
     ]
    }
   ],
   "source": [
    "#Passing the variable:\n",
    "page = requests.get(link)\n",
    "print(\"Total Responses:\",page)"
   ]
  },
  {
   "cell_type": "code",
   "execution_count": null,
   "metadata": {},
   "outputs": [],
   "source": [
    "#Nows lets check the download source code file:\n",
    "page.content"
   ]
  },
  {
   "cell_type": "code",
   "execution_count": 4,
   "metadata": {},
   "outputs": [],
   "source": [
    "#Now lets parse the souce code by using Beautifull soup.\n",
    "soup = BeautifulSoup(page.content,'html.parser')"
   ]
  },
  {
   "cell_type": "code",
   "execution_count": null,
   "metadata": {},
   "outputs": [],
   "source": [
    "#For better visualization we wwill be using Prettify method.\n",
    "print(soup.prettify())"
   ]
  },
  {
   "cell_type": "code",
   "execution_count": 5,
   "metadata": {},
   "outputs": [],
   "source": [
    "#Fetching the customer review tags:\n",
    "names = soup.find_all('span',class_='a-profile-name')"
   ]
  },
  {
   "cell_type": "code",
   "execution_count": 6,
   "metadata": {},
   "outputs": [
    {
     "data": {
      "text/plain": [
       "[<span class=\"a-profile-name\">Tanmay Shukla</span>,\n",
       " <span class=\"a-profile-name\">Surbhi Garg</span>,\n",
       " <span class=\"a-profile-name\">Tanmay Shukla</span>,\n",
       " <span class=\"a-profile-name\">Surbhi Garg</span>,\n",
       " <span class=\"a-profile-name\">klknow</span>,\n",
       " <span class=\"a-profile-name\">abdulkadir garari</span>,\n",
       " <span class=\"a-profile-name\">Anshu K.</span>,\n",
       " <span class=\"a-profile-name\">nagaraj s.</span>,\n",
       " <span class=\"a-profile-name\">Regidi Mahesh Dora</span>,\n",
       " <span class=\"a-profile-name\">Aakash Sinha</span>,\n",
       " <span class=\"a-profile-name\">Mumtaz Alam</span>,\n",
       " <span class=\"a-profile-name\">Vaibhav Narvaria</span>]"
      ]
     },
     "execution_count": 6,
     "metadata": {},
     "output_type": "execute_result"
    }
   ],
   "source": [
    "#Printing the result:\n",
    "list(names)"
   ]
  },
  {
   "cell_type": "code",
   "execution_count": 7,
   "metadata": {},
   "outputs": [
    {
     "name": "stdout",
     "output_type": "stream",
     "text": [
      "['Tanmay Shukla', 'Surbhi Garg', 'Tanmay Shukla', 'Surbhi Garg', 'klknow', 'abdulkadir garari', 'Anshu K.', 'nagaraj s.', 'Regidi Mahesh Dora', 'Aakash Sinha', 'Mumtaz Alam', 'Vaibhav Narvaria']\n"
     ]
    }
   ],
   "source": [
    "#Creating a list-comprehension to store the tags of customer names:\n",
    "customer_Name = []\n",
    "for i in range(0,len(names)):\n",
    "    customer_Name.append(names[i].get_text())\n",
    "print(list(customer_Name))"
   ]
  },
  {
   "cell_type": "code",
   "execution_count": 8,
   "metadata": {},
   "outputs": [
    {
     "name": "stdout",
     "output_type": "stream",
     "text": [
      "{'Surbhi Garg', 'Tanmay Shukla'}\n"
     ]
    }
   ],
   "source": [
    "#Removing the names which are repeated:\n",
    "print(set([x for x in customer_Name if customer_Name.count(x)>1]))"
   ]
  },
  {
   "cell_type": "code",
   "execution_count": 9,
   "metadata": {},
   "outputs": [
    {
     "name": "stdout",
     "output_type": "stream",
     "text": [
      "['Surbhi Garg', 'Tanmay Shukla', 'Surbhi Garg', 'klknow', 'abdulkadir garari', 'Anshu K.', 'nagaraj s.', 'Regidi Mahesh Dora', 'Aakash Sinha', 'Mumtaz Alam', 'Vaibhav Narvaria']\n"
     ]
    }
   ],
   "source": [
    "#Removing duplicate records:\n",
    "customer_Name.pop(0)\n",
    "print(list(customer_Name))"
   ]
  },
  {
   "cell_type": "code",
   "execution_count": 10,
   "metadata": {},
   "outputs": [
    {
     "name": "stdout",
     "output_type": "stream",
     "text": [
      "['Tanmay Shukla', 'Surbhi Garg', 'klknow', 'abdulkadir garari', 'Anshu K.', 'nagaraj s.', 'Regidi Mahesh Dora', 'Aakash Sinha', 'Mumtaz Alam', 'Vaibhav Narvaria']\n"
     ]
    }
   ],
   "source": [
    "#Removing duplicate records:\n",
    "customer_Name.pop(0)\n",
    "print(list(customer_Name))"
   ]
  },
  {
   "cell_type": "code",
   "execution_count": 11,
   "metadata": {},
   "outputs": [],
   "source": [
    "#Fetching the customer review titles:\n",
    "titles = soup.find_all('a',class_='review-title-content')"
   ]
  },
  {
   "cell_type": "code",
   "execution_count": 12,
   "metadata": {},
   "outputs": [
    {
     "data": {
      "text/plain": [
       "[<a class=\"a-size-base a-link-normal review-title a-color-base review-title-content a-text-bold\" data-hook=\"review-title\" href=\"/gp/customer-reviews/RG52NAY3E12BR?ASIN=B07DJHV6VZ\">\n",
       " <span>Flagship Killer</span>\n",
       " </a>,\n",
       " <a class=\"a-size-base a-link-normal review-title a-color-base review-title-content a-text-bold\" data-hook=\"review-title\" href=\"/gp/customer-reviews/R1EE0UTB5657D6?ASIN=B07DJHV6VZ\">\n",
       " <span>Camera quality is very poor.</span>\n",
       " </a>]"
      ]
     },
     "execution_count": 12,
     "metadata": {},
     "output_type": "execute_result"
    }
   ],
   "source": [
    "#Printing the result:\n",
    "list(titles)[0:2]"
   ]
  },
  {
   "cell_type": "code",
   "execution_count": 13,
   "metadata": {},
   "outputs": [
    {
     "name": "stdout",
     "output_type": "stream",
     "text": [
      "['\\nFlagship Killer\\n', '\\nCamera quality is very poor.\\n', '\\nDead on arrival\\n', '\\nNot worth to buy 6T\\n', '\\nBeautiful phone\\n', '\\nAwesome value for the money\\n', '\\nNO WAY GOING TO BE A CUSTOMER OF A COMPANY (Oneplus6T) THAT CANNOT GET NEW CUSTOMER SERVICE CORRECT\\n', '\\nOnePlust 6T McLaren Edition - Salute to Speed!\\n', '\\nWaste of money\\n', '\\nSuperb phone\\n']\n"
     ]
    }
   ],
   "source": [
    "#Creating a list-comprehension to store the customer review_titles:\n",
    "review_titles = []\n",
    "for i in range(0,len(titles)):\n",
    "    review_titles.append(titles[i].get_text())\n",
    "print(list(review_titles))"
   ]
  },
  {
   "cell_type": "code",
   "execution_count": 14,
   "metadata": {},
   "outputs": [
    {
     "data": {
      "text/plain": [
       "['Flagship Killer',\n",
       " 'Camera quality is very poor.',\n",
       " 'Dead on arrival',\n",
       " 'Not worth to buy 6T',\n",
       " 'Beautiful phone',\n",
       " 'Awesome value for the money',\n",
       " 'NO WAY GOING TO BE A CUSTOMER OF A COMPANY (Oneplus6T) THAT CANNOT GET NEW CUSTOMER SERVICE CORRECT',\n",
       " 'OnePlust 6T McLaren Edition - Salute to Speed!',\n",
       " 'Waste of money',\n",
       " 'Superb phone']"
      ]
     },
     "execution_count": 14,
     "metadata": {},
     "output_type": "execute_result"
    }
   ],
   "source": [
    "#Cleaning up the text:\n",
    "review_titles[:] = [titles.strip('\\n') for titles in review_titles]\n",
    "review_titles"
   ]
  },
  {
   "cell_type": "code",
   "execution_count": 15,
   "metadata": {},
   "outputs": [
    {
     "name": "stdout",
     "output_type": "stream",
     "text": [
      "[<i class=\"a-icon a-icon-star a-star-5 review-rating\" data-hook=\"review-star-rating-view-point\"><span class=\"a-icon-alt\">5.0 out of 5 stars</span></i>, <i class=\"a-icon a-icon-star a-star-2 review-rating\" data-hook=\"review-star-rating-view-point\"><span class=\"a-icon-alt\">2.0 out of 5 stars</span></i>, <i class=\"a-icon a-icon-star a-star-5 review-rating\" data-hook=\"review-star-rating\"><span class=\"a-icon-alt\">5.0 out of 5 stars</span></i>, <i class=\"a-icon a-icon-star a-star-2 review-rating\" data-hook=\"review-star-rating\"><span class=\"a-icon-alt\">2.0 out of 5 stars</span></i>, <i class=\"a-icon a-icon-star a-star-1 review-rating\" data-hook=\"review-star-rating\"><span class=\"a-icon-alt\">1.0 out of 5 stars</span></i>, <i class=\"a-icon a-icon-star a-star-1 review-rating\" data-hook=\"review-star-rating\"><span class=\"a-icon-alt\">1.0 out of 5 stars</span></i>, <i class=\"a-icon a-icon-star a-star-4 review-rating\" data-hook=\"review-star-rating\"><span class=\"a-icon-alt\">4.0 out of 5 stars</span></i>, <i class=\"a-icon a-icon-star a-star-5 review-rating\" data-hook=\"review-star-rating\"><span class=\"a-icon-alt\">5.0 out of 5 stars</span></i>, <i class=\"a-icon a-icon-star a-star-1 review-rating\" data-hook=\"review-star-rating\"><span class=\"a-icon-alt\">1.0 out of 5 stars</span></i>, <i class=\"a-icon a-icon-star a-star-5 review-rating\" data-hook=\"review-star-rating\"><span class=\"a-icon-alt\">5.0 out of 5 stars</span></i>, <i class=\"a-icon a-icon-star a-star-1 review-rating\" data-hook=\"review-star-rating\"><span class=\"a-icon-alt\">1.0 out of 5 stars</span></i>, <i class=\"a-icon a-icon-star a-star-5 review-rating\" data-hook=\"review-star-rating\"><span class=\"a-icon-alt\">5.0 out of 5 stars</span></i>]\n"
     ]
    }
   ],
   "source": [
    "#Fetching the customer ratings:\n",
    "rating = soup.find_all('i',class_='review-rating')\n",
    "print(list(rating))"
   ]
  },
  {
   "cell_type": "code",
   "execution_count": 16,
   "metadata": {},
   "outputs": [
    {
     "name": "stdout",
     "output_type": "stream",
     "text": [
      "['5.0 out of 5 stars', '2.0 out of 5 stars', '5.0 out of 5 stars', '2.0 out of 5 stars', '1.0 out of 5 stars', '1.0 out of 5 stars', '4.0 out of 5 stars', '5.0 out of 5 stars', '1.0 out of 5 stars', '5.0 out of 5 stars', '1.0 out of 5 stars', '5.0 out of 5 stars']\n"
     ]
    }
   ],
   "source": [
    "#Creating a list-comprehension to store the tags of customer rating:\n",
    "customer_ratings = []\n",
    "for i in range(0,len(rating)):\n",
    "    customer_ratings.append(rating[i].get_text())\n",
    "print(list(customer_ratings))"
   ]
  },
  {
   "cell_type": "code",
   "execution_count": 17,
   "metadata": {},
   "outputs": [
    {
     "name": "stdout",
     "output_type": "stream",
     "text": [
      "{'1.0 out of 5 stars', '5.0 out of 5 stars'}\n"
     ]
    }
   ],
   "source": [
    "#Checking for duplicate records:\n",
    "print(set([x for x in customer_ratings if customer_ratings.count(x)>2]))"
   ]
  },
  {
   "cell_type": "code",
   "execution_count": 18,
   "metadata": {},
   "outputs": [
    {
     "data": {
      "text/plain": [
       "'5.0 out of 5 stars'"
      ]
     },
     "execution_count": 18,
     "metadata": {},
     "output_type": "execute_result"
    }
   ],
   "source": [
    "#Removing Duplicate Records:\n",
    "customer_ratings.pop(0)"
   ]
  },
  {
   "cell_type": "code",
   "execution_count": 19,
   "metadata": {},
   "outputs": [
    {
     "data": {
      "text/plain": [
       "'2.0 out of 5 stars'"
      ]
     },
     "execution_count": 19,
     "metadata": {},
     "output_type": "execute_result"
    }
   ],
   "source": [
    "#Removing Duplicate Records:\n",
    "customer_ratings.pop(0)"
   ]
  },
  {
   "cell_type": "code",
   "execution_count": 20,
   "metadata": {},
   "outputs": [
    {
     "data": {
      "text/plain": [
       "10"
      ]
     },
     "execution_count": 20,
     "metadata": {},
     "output_type": "execute_result"
    }
   ],
   "source": [
    "#Checking the length:\n",
    "len(customer_ratings)"
   ]
  },
  {
   "cell_type": "code",
   "execution_count": 21,
   "metadata": {},
   "outputs": [],
   "source": [
    "#Fetching the customer review body:\n",
    "review = soup.find_all(\"span\",{\"data-hook\":\"review-body\"})"
   ]
  },
  {
   "cell_type": "code",
   "execution_count": 22,
   "metadata": {},
   "outputs": [
    {
     "data": {
      "text/plain": [
       "[\"\\n\\n  I got this phone on Friday evening.Pros:Great battery lifeAmazing performancePremium designImpressive rear and front cameraIn display fingerprint scanner is really fastCons:No headphone jack but you'll get a converterNo notification LEDNo microSD card slotI will give points on my personal experience of 2 days full usage as below:Weight: 9/10OS: 10/10Screen size: 10/10CPU: 10/10Performance: 10/10Storage: 10/10 (you'll get approx 113 gb for use)Battery: 8/10Rear camera: 10/10Front camera: 10/10In display fingerprint scanner: 9/10Face unlock: 10/10I hope this will help full.\\n\\n\",\n",
       " '\\n\\n  Camera quality is not upto the mark. I visited one plus store and the store representative checked my phone and compared the camera quality with his demo phone. He noticed a significant difference between the two.I request Amazon to replace my phone with a new one as it is evident that this phone has some problems.\\n\\n']"
      ]
     },
     "execution_count": 22,
     "metadata": {},
     "output_type": "execute_result"
    }
   ],
   "source": [
    "#Creating a list-comprehension to store the tags of customer review body:\n",
    "customer_review_body = []\n",
    "for i in range(0,len(review)):\n",
    "    customer_review_body.append(review[i].get_text())\n",
    "customer_review_body[:2]"
   ]
  },
  {
   "cell_type": "code",
   "execution_count": 23,
   "metadata": {},
   "outputs": [
    {
     "data": {
      "text/plain": [
       "[\"  I got this phone on Friday evening.Pros:Great battery lifeAmazing performancePremium designImpressive rear and front cameraIn display fingerprint scanner is really fastCons:No headphone jack but you'll get a converterNo notification LEDNo microSD card slotI will give points on my personal experience of 2 days full usage as below:Weight: 9/10OS: 10/10Screen size: 10/10CPU: 10/10Performance: 10/10Storage: 10/10 (you'll get approx 113 gb for use)Battery: 8/10Rear camera: 10/10Front camera: 10/10In display fingerprint scanner: 9/10Face unlock: 10/10I hope this will help full.\",\n",
       " '  Camera quality is not upto the mark. I visited one plus store and the store representative checked my phone and compared the camera quality with his demo phone. He noticed a significant difference between the two.I request Amazon to replace my phone with a new one as it is evident that this phone has some problems.']"
      ]
     },
     "execution_count": 23,
     "metadata": {},
     "output_type": "execute_result"
    }
   ],
   "source": [
    "#Cleaning up the text:\n",
    "customer_review_body[:] = [review.strip('\\n') for review in customer_review_body] \n",
    "customer_review_body[:2]"
   ]
  },
  {
   "cell_type": "code",
   "execution_count": 24,
   "metadata": {},
   "outputs": [],
   "source": [
    "#Importing Pandas:\n",
    "import pandas as pd"
   ]
  },
  {
   "cell_type": "code",
   "execution_count": 25,
   "metadata": {},
   "outputs": [],
   "source": [
    "df = pd.DataFrame()"
   ]
  },
  {
   "cell_type": "code",
   "execution_count": 26,
   "metadata": {},
   "outputs": [],
   "source": [
    "#Merging the data into Dataframes:\n",
    "df['Customer Name'] = customer_Name\n",
    "df['review titles'] = review_titles\n",
    "df['Customer Ratings'] = customer_ratings\n",
    "df['review'] = customer_review_body"
   ]
  },
  {
   "cell_type": "code",
   "execution_count": 27,
   "metadata": {},
   "outputs": [
    {
     "data": {
      "text/html": [
       "<div>\n",
       "<style scoped>\n",
       "    .dataframe tbody tr th:only-of-type {\n",
       "        vertical-align: middle;\n",
       "    }\n",
       "\n",
       "    .dataframe tbody tr th {\n",
       "        vertical-align: top;\n",
       "    }\n",
       "\n",
       "    .dataframe thead th {\n",
       "        text-align: right;\n",
       "    }\n",
       "</style>\n",
       "<table border=\"1\" class=\"dataframe\">\n",
       "  <thead>\n",
       "    <tr style=\"text-align: right;\">\n",
       "      <th></th>\n",
       "      <th>Customer Name</th>\n",
       "      <th>review titles</th>\n",
       "      <th>Customer Ratings</th>\n",
       "      <th>review</th>\n",
       "    </tr>\n",
       "  </thead>\n",
       "  <tbody>\n",
       "    <tr>\n",
       "      <th>0</th>\n",
       "      <td>Tanmay Shukla</td>\n",
       "      <td>Flagship Killer</td>\n",
       "      <td>5.0 out of 5 stars</td>\n",
       "      <td>I got this phone on Friday evening.Pros:Grea...</td>\n",
       "    </tr>\n",
       "    <tr>\n",
       "      <th>1</th>\n",
       "      <td>Surbhi Garg</td>\n",
       "      <td>Camera quality is very poor.</td>\n",
       "      <td>2.0 out of 5 stars</td>\n",
       "      <td>Camera quality is not upto the mark. I visit...</td>\n",
       "    </tr>\n",
       "    <tr>\n",
       "      <th>2</th>\n",
       "      <td>klknow</td>\n",
       "      <td>Dead on arrival</td>\n",
       "      <td>1.0 out of 5 stars</td>\n",
       "      <td>I charged the phone completely out of the bo...</td>\n",
       "    </tr>\n",
       "    <tr>\n",
       "      <th>3</th>\n",
       "      <td>abdulkadir garari</td>\n",
       "      <td>Not worth to buy 6T</td>\n",
       "      <td>1.0 out of 5 stars</td>\n",
       "      <td>One plus 6 was costing 28k during the big bi...</td>\n",
       "    </tr>\n",
       "    <tr>\n",
       "      <th>4</th>\n",
       "      <td>Anshu K.</td>\n",
       "      <td>Beautiful phone</td>\n",
       "      <td>4.0 out of 5 stars</td>\n",
       "      <td>Good build.amazing battery life. ( Minimum 3...</td>\n",
       "    </tr>\n",
       "    <tr>\n",
       "      <th>5</th>\n",
       "      <td>nagaraj s.</td>\n",
       "      <td>Awesome value for the money</td>\n",
       "      <td>5.0 out of 5 stars</td>\n",
       "      <td>Phone is simply superb in all aspects...low ...</td>\n",
       "    </tr>\n",
       "    <tr>\n",
       "      <th>6</th>\n",
       "      <td>Regidi Mahesh Dora</td>\n",
       "      <td>NO WAY GOING TO BE A CUSTOMER OF A COMPANY (On...</td>\n",
       "      <td>1.0 out of 5 stars</td>\n",
       "      <td>Two days back I received 6T and had many pro...</td>\n",
       "    </tr>\n",
       "    <tr>\n",
       "      <th>7</th>\n",
       "      <td>Aakash Sinha</td>\n",
       "      <td>OnePlust 6T McLaren Edition - Salute to Speed!</td>\n",
       "      <td>5.0 out of 5 stars</td>\n",
       "      <td>This has by far been the best phone I have e...</td>\n",
       "    </tr>\n",
       "    <tr>\n",
       "      <th>8</th>\n",
       "      <td>Mumtaz Alam</td>\n",
       "      <td>Waste of money</td>\n",
       "      <td>1.0 out of 5 stars</td>\n",
       "      <td>Battery-Extremely PoorCamera-SatisfactoryLoo...</td>\n",
       "    </tr>\n",
       "    <tr>\n",
       "      <th>9</th>\n",
       "      <td>Vaibhav Narvaria</td>\n",
       "      <td>Superb phone</td>\n",
       "      <td>5.0 out of 5 stars</td>\n",
       "      <td>After replace the handset issue was resolved...</td>\n",
       "    </tr>\n",
       "  </tbody>\n",
       "</table>\n",
       "</div>"
      ],
      "text/plain": [
       "        Customer Name                                      review titles  \\\n",
       "0       Tanmay Shukla                                    Flagship Killer   \n",
       "1         Surbhi Garg                       Camera quality is very poor.   \n",
       "2              klknow                                    Dead on arrival   \n",
       "3   abdulkadir garari                                Not worth to buy 6T   \n",
       "4            Anshu K.                                    Beautiful phone   \n",
       "5          nagaraj s.                        Awesome value for the money   \n",
       "6  Regidi Mahesh Dora  NO WAY GOING TO BE A CUSTOMER OF A COMPANY (On...   \n",
       "7        Aakash Sinha     OnePlust 6T McLaren Edition - Salute to Speed!   \n",
       "8         Mumtaz Alam                                     Waste of money   \n",
       "9    Vaibhav Narvaria                                       Superb phone   \n",
       "\n",
       "     Customer Ratings                                             review  \n",
       "0  5.0 out of 5 stars    I got this phone on Friday evening.Pros:Grea...  \n",
       "1  2.0 out of 5 stars    Camera quality is not upto the mark. I visit...  \n",
       "2  1.0 out of 5 stars    I charged the phone completely out of the bo...  \n",
       "3  1.0 out of 5 stars    One plus 6 was costing 28k during the big bi...  \n",
       "4  4.0 out of 5 stars    Good build.amazing battery life. ( Minimum 3...  \n",
       "5  5.0 out of 5 stars    Phone is simply superb in all aspects...low ...  \n",
       "6  1.0 out of 5 stars    Two days back I received 6T and had many pro...  \n",
       "7  5.0 out of 5 stars    This has by far been the best phone I have e...  \n",
       "8  1.0 out of 5 stars    Battery-Extremely PoorCamera-SatisfactoryLoo...  \n",
       "9  5.0 out of 5 stars    After replace the handset issue was resolved...  "
      ]
     },
     "execution_count": 27,
     "metadata": {},
     "output_type": "execute_result"
    }
   ],
   "source": [
    "#Checking the dataframe:\n",
    "df"
   ]
  },
  {
   "cell_type": "code",
   "execution_count": null,
   "metadata": {},
   "outputs": [],
   "source": [
    "#Saving it into CSV file:\n",
    "df.to_csv(r'c:\\reviews.csv',index=True)"
   ]
  }
 ],
 "metadata": {
  "kernelspec": {
   "display_name": "Python 3",
   "language": "python",
   "name": "python3"
  },
  "language_info": {
   "codemirror_mode": {
    "name": "ipython",
    "version": 3
   },
   "file_extension": ".py",
   "mimetype": "text/x-python",
   "name": "python",
   "nbconvert_exporter": "python",
   "pygments_lexer": "ipython3",
   "version": "3.8.3"
  }
 },
 "nbformat": 4,
 "nbformat_minor": 4
}
