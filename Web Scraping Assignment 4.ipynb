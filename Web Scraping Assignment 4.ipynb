{
 "cells": [
  {
   "cell_type": "markdown",
   "metadata": {},
   "source": [
    "# Web Scraping 4:"
   ]
  },
  {
   "cell_type": "markdown",
   "metadata": {},
   "source": [
    "# Question No 1:"
   ]
  },
  {
   "cell_type": "code",
   "execution_count": 1,
   "metadata": {},
   "outputs": [],
   "source": [
    "#importing all the required libraries\n",
    "import pandas as pd\n",
    "import selenium\n",
    "from selenium import webdriver\n",
    "from selenium.common.exceptions import StaleElementReferenceException, NoSuchElementException"
   ]
  },
  {
   "cell_type": "code",
   "execution_count": 2,
   "metadata": {},
   "outputs": [],
   "source": [
    "driver = webdriver.Chrome(r\"C:\\Users\\MI Laptop\\Downloads\\chromedriver_win32\\chromedriver.exe\")"
   ]
  },
  {
   "cell_type": "code",
   "execution_count": 3,
   "metadata": {},
   "outputs": [],
   "source": [
    "#Defining the url:\n",
    "url = \"https://en.wikipedia.org/wiki/List_of_most-viewed_YouTube_videos/\""
   ]
  },
  {
   "cell_type": "code",
   "execution_count": 4,
   "metadata": {},
   "outputs": [],
   "source": [
    "#Getting the URL:\n",
    "driver.get(url)"
   ]
  },
  {
   "cell_type": "code",
   "execution_count": 5,
   "metadata": {},
   "outputs": [],
   "source": [
    "#Creating Empty List:\n",
    "Rank = []\n",
    "Name = []\n",
    "Artist = []\n",
    "Upload_Date = []\n",
    "Views = []"
   ]
  },
  {
   "cell_type": "code",
   "execution_count": 6,
   "metadata": {},
   "outputs": [],
   "source": [
    "#clicking the search button for locating videos:\n",
    "search_1 = driver.find_element_by_xpath('//*[@id=\"noarticletext\"]/tbody/tr/td/span/a')   \n",
    "search_1.click()"
   ]
  },
  {
   "cell_type": "code",
   "execution_count": 7,
   "metadata": {},
   "outputs": [],
   "source": [
    "#clicking the search button for finding page of top youtube videos most viewed:\n",
    "search_2 = driver.find_element_by_xpath('//*[@id=\"mw-content-text\"]/div[3]/ul/li[1]/div[1]/a')      \n",
    "search_2.click()"
   ]
  },
  {
   "cell_type": "code",
   "execution_count": 8,
   "metadata": {},
   "outputs": [
    {
     "name": "stdout",
     "output_type": "stream",
     "text": [
      "['1.', '2.', '3.', '4.', '5.']\n"
     ]
    }
   ],
   "source": [
    "#scraping the tags for Rank:\n",
    "ranks = driver.find_elements_by_xpath(\"//*[@id='mw-content-text']/div[1]/table[1]/tbody/tr/td[1]\")\n",
    "\n",
    "#Using for loop for iterations\n",
    "#Handling Null Values.\n",
    "for i in ranks:\n",
    "    if i.text is None:\n",
    "        Rank.append(\" \") \n",
    "    else:\n",
    "        Rank.append(i.text.replace('\\n','').strip())\n",
    "print(Rank[0:5])"
   ]
  },
  {
   "cell_type": "code",
   "execution_count": 9,
   "metadata": {},
   "outputs": [
    {
     "name": "stdout",
     "output_type": "stream",
     "text": [
      "['\"Baby Shark Dance\"[28]', '\"Despacito\"[30]', '\"Shape of You\"[31]', '\"See You Again\"[32]', '\"Johny Johny Yes Papa\"[35]']\n"
     ]
    }
   ],
   "source": [
    "#scraping the tags for names of the video:\n",
    "videos_name = driver.find_elements_by_xpath(\"//*[@id='mw-content-text']/div[1]/table[1]/tbody/tr/td[2]\")\n",
    "\n",
    "#Using for loop for iterations\n",
    "#Handling Null Values.\n",
    "for i in videos_name:\n",
    "    if i.text is None:\n",
    "        Name.append(\" \") \n",
    "    else:\n",
    "        Name.append(i.text.replace('\\n','').strip())\n",
    "print(Name[0:5])"
   ]
  },
  {
   "cell_type": "code",
   "execution_count": 10,
   "metadata": {},
   "outputs": [
    {
     "name": "stdout",
     "output_type": "stream",
     "text": [
      "[\"Pinkfong Kids' Songs & Stories\", 'Luis Fonsi featuring Daddy Yankee', 'Ed Sheeran', 'Wiz Khalifa featuring Charlie Puth', 'LooLoo Kids']\n"
     ]
    }
   ],
   "source": [
    "#scraping the tags for names of the Artist:\n",
    "artist_name = driver.find_elements_by_xpath(\"//*[@id='mw-content-text']/div[1]/table[1]/tbody/tr/td[3]\")\n",
    "\n",
    "#Using for loop for iterations\n",
    "#Handling Null Values.\n",
    "for i in artist_name:\n",
    "    if i.text is None:\n",
    "        Artist.append(\" \") \n",
    "    else:\n",
    "        Artist.append(i.text.replace('\\n','').strip())\n",
    "print(Artist[0:5])"
   ]
  },
  {
   "cell_type": "code",
   "execution_count": 11,
   "metadata": {},
   "outputs": [
    {
     "name": "stdout",
     "output_type": "stream",
     "text": [
      "['June 17, 2016', 'January 12, 2017', 'January 30, 2017', 'April 6, 2015', 'October 8, 2016']\n"
     ]
    }
   ],
   "source": [
    "#scraping the tags for video upload date:\n",
    "videos_upload_date = driver.find_elements_by_xpath(\"//*[@id='mw-content-text']/div[1]/table[1]/tbody/tr/td[5]\")\n",
    "\n",
    "#Using for loop for iterations\n",
    "#Handling Null Values.\n",
    "for i in videos_upload_date:\n",
    "    if i.text is None:\n",
    "        Upload_Date.append(\" \") \n",
    "    else:\n",
    "        Upload_Date.append(i.text.replace('\\n','').strip())\n",
    "print(Upload_Date[0:5])"
   ]
  },
  {
   "cell_type": "code",
   "execution_count": 12,
   "metadata": {},
   "outputs": [
    {
     "name": "stdout",
     "output_type": "stream",
     "text": [
      "['7.91', '7.20', '5.18', '4.96', '4.77']\n"
     ]
    }
   ],
   "source": [
    "#scraping the tags for views count:\n",
    "views_count = driver.find_elements_by_xpath(\"//*[@id='mw-content-text']/div[1]/table[1]/tbody/tr/td[4]\")\n",
    "\n",
    "#Using for loop for iterations\n",
    "#Handling Null Values.\n",
    "for i in views_count:\n",
    "    if i.text is None:\n",
    "        Views.append(\" \") \n",
    "    else:\n",
    "        Views.append(i.text.replace('\\n','').strip())\n",
    "print(Views[0:5])"
   ]
  },
  {
   "cell_type": "code",
   "execution_count": 14,
   "metadata": {},
   "outputs": [
    {
     "data": {
      "text/html": [
       "<div>\n",
       "<style scoped>\n",
       "    .dataframe tbody tr th:only-of-type {\n",
       "        vertical-align: middle;\n",
       "    }\n",
       "\n",
       "    .dataframe tbody tr th {\n",
       "        vertical-align: top;\n",
       "    }\n",
       "\n",
       "    .dataframe thead th {\n",
       "        text-align: right;\n",
       "    }\n",
       "</style>\n",
       "<table border=\"1\" class=\"dataframe\">\n",
       "  <thead>\n",
       "    <tr style=\"text-align: right;\">\n",
       "      <th></th>\n",
       "      <th>Rank</th>\n",
       "      <th>Video Title</th>\n",
       "      <th>Artist</th>\n",
       "      <th>Upload_Date</th>\n",
       "      <th>Views In Bllion</th>\n",
       "    </tr>\n",
       "  </thead>\n",
       "  <tbody>\n",
       "    <tr>\n",
       "      <th>0</th>\n",
       "      <td>1.</td>\n",
       "      <td>\"Baby Shark Dance\"[28]</td>\n",
       "      <td>Pinkfong Kids' Songs &amp; Stories</td>\n",
       "      <td>June 17, 2016</td>\n",
       "      <td>7.91</td>\n",
       "    </tr>\n",
       "    <tr>\n",
       "      <th>1</th>\n",
       "      <td>2.</td>\n",
       "      <td>\"Despacito\"[30]</td>\n",
       "      <td>Luis Fonsi featuring Daddy Yankee</td>\n",
       "      <td>January 12, 2017</td>\n",
       "      <td>7.20</td>\n",
       "    </tr>\n",
       "    <tr>\n",
       "      <th>2</th>\n",
       "      <td>3.</td>\n",
       "      <td>\"Shape of You\"[31]</td>\n",
       "      <td>Ed Sheeran</td>\n",
       "      <td>January 30, 2017</td>\n",
       "      <td>5.18</td>\n",
       "    </tr>\n",
       "    <tr>\n",
       "      <th>3</th>\n",
       "      <td>4.</td>\n",
       "      <td>\"See You Again\"[32]</td>\n",
       "      <td>Wiz Khalifa featuring Charlie Puth</td>\n",
       "      <td>April 6, 2015</td>\n",
       "      <td>4.96</td>\n",
       "    </tr>\n",
       "    <tr>\n",
       "      <th>4</th>\n",
       "      <td>5.</td>\n",
       "      <td>\"Johny Johny Yes Papa\"[35]</td>\n",
       "      <td>LooLoo Kids</td>\n",
       "      <td>October 8, 2016</td>\n",
       "      <td>4.77</td>\n",
       "    </tr>\n",
       "    <tr>\n",
       "      <th>5</th>\n",
       "      <td>6.</td>\n",
       "      <td>\"Masha and the Bear – Recipe for Disaster\"[36]</td>\n",
       "      <td>Get Movies</td>\n",
       "      <td>January 31, 2012</td>\n",
       "      <td>4.41</td>\n",
       "    </tr>\n",
       "    <tr>\n",
       "      <th>6</th>\n",
       "      <td>7.</td>\n",
       "      <td>\"Uptown Funk\"[37]</td>\n",
       "      <td>Mark Ronson featuring Bruno Mars</td>\n",
       "      <td>November 19, 2014</td>\n",
       "      <td>4.09</td>\n",
       "    </tr>\n",
       "    <tr>\n",
       "      <th>7</th>\n",
       "      <td>8.</td>\n",
       "      <td>\"Gangnam Style\"[38]</td>\n",
       "      <td>Psy</td>\n",
       "      <td>July 15, 2012</td>\n",
       "      <td>3.97</td>\n",
       "    </tr>\n",
       "    <tr>\n",
       "      <th>8</th>\n",
       "      <td>9.</td>\n",
       "      <td>\"Learning Colors – Colorful Eggs on a Farm\"[40]</td>\n",
       "      <td>Miroshka TV</td>\n",
       "      <td>February 27, 2018</td>\n",
       "      <td>3.69</td>\n",
       "    </tr>\n",
       "    <tr>\n",
       "      <th>9</th>\n",
       "      <td>10.</td>\n",
       "      <td>\"Bath Song\"[41]</td>\n",
       "      <td>Cocomelon – Nursery Rhymes</td>\n",
       "      <td>May 2, 2018</td>\n",
       "      <td>3.64</td>\n",
       "    </tr>\n",
       "  </tbody>\n",
       "</table>\n",
       "</div>"
      ],
      "text/plain": [
       "  Rank                                      Video Title  \\\n",
       "0   1.                           \"Baby Shark Dance\"[28]   \n",
       "1   2.                                  \"Despacito\"[30]   \n",
       "2   3.                               \"Shape of You\"[31]   \n",
       "3   4.                              \"See You Again\"[32]   \n",
       "4   5.                       \"Johny Johny Yes Papa\"[35]   \n",
       "5   6.   \"Masha and the Bear – Recipe for Disaster\"[36]   \n",
       "6   7.                                \"Uptown Funk\"[37]   \n",
       "7   8.                              \"Gangnam Style\"[38]   \n",
       "8   9.  \"Learning Colors – Colorful Eggs on a Farm\"[40]   \n",
       "9  10.                                  \"Bath Song\"[41]   \n",
       "\n",
       "                               Artist        Upload_Date Views In Bllion  \n",
       "0      Pinkfong Kids' Songs & Stories      June 17, 2016            7.91  \n",
       "1   Luis Fonsi featuring Daddy Yankee   January 12, 2017            7.20  \n",
       "2                          Ed Sheeran   January 30, 2017            5.18  \n",
       "3  Wiz Khalifa featuring Charlie Puth      April 6, 2015            4.96  \n",
       "4                         LooLoo Kids    October 8, 2016            4.77  \n",
       "5                          Get Movies   January 31, 2012            4.41  \n",
       "6    Mark Ronson featuring Bruno Mars  November 19, 2014            4.09  \n",
       "7                                 Psy      July 15, 2012            3.97  \n",
       "8                         Miroshka TV  February 27, 2018            3.69  \n",
       "9          Cocomelon – Nursery Rhymes        May 2, 2018            3.64  "
      ]
     },
     "execution_count": 14,
     "metadata": {},
     "output_type": "execute_result"
    }
   ],
   "source": [
    "#Defing a Dataframe:\n",
    "Youtube_Video = pd.DataFrame([])\n",
    "Youtube_Video['Rank'] = Rank\n",
    "Youtube_Video['Video Title'] = Name\n",
    "Youtube_Video['Artist'] = Artist\n",
    "Youtube_Video['Upload_Date'] = Upload_Date\n",
    "Youtube_Video['Views In Bllion'] = Views\n",
    "Youtube_Video.head(10)"
   ]
  },
  {
   "cell_type": "markdown",
   "metadata": {},
   "source": [
    "# Question No 2:"
   ]
  },
  {
   "cell_type": "code",
   "execution_count": 42,
   "metadata": {},
   "outputs": [],
   "source": [
    "driver = webdriver.Chrome(r\"C:\\Users\\MI Laptop\\Downloads\\chromedriver_win32\\chromedriver.exe\")"
   ]
  },
  {
   "cell_type": "code",
   "execution_count": 43,
   "metadata": {},
   "outputs": [],
   "source": [
    "url_1 = \"https://www.bcci.tv/international/fixtures\""
   ]
  },
  {
   "cell_type": "code",
   "execution_count": 44,
   "metadata": {},
   "outputs": [],
   "source": [
    "driver.get(url_1)"
   ]
  },
  {
   "cell_type": "code",
   "execution_count": 45,
   "metadata": {},
   "outputs": [],
   "source": [
    "#Creating Empty List:\n",
    "Team = []\n",
    "Ground = []\n",
    "Test_ODI = []"
   ]
  },
  {
   "cell_type": "code",
   "execution_count": 46,
   "metadata": {},
   "outputs": [
    {
     "name": "stdout",
     "output_type": "stream",
     "text": [
      "['INDIAvENGLAND', 'INDIAvENGLAND', 'INDIAvENGLAND', 'INDIAvENGLAND', 'INDIAvENGLAND', 'INDIAvENGLAND', 'INDIAvENGLAND', 'INDIAvENGLAND', 'INDIAvENGLAND', 'INDIAvENGLAND']\n"
     ]
    }
   ],
   "source": [
    "#scraping the tags for Teams name playing against India:\n",
    "team_names = driver.find_elements_by_xpath(\"//div[@class='fixture__teams']\")\n",
    "\n",
    "#Using for loop for iterations\n",
    "#Handling Null Values.\n",
    "for i in team_names:\n",
    "    if i.text is None:\n",
    "        Team.append(\" \") \n",
    "    else:\n",
    "        Team.append(i.text.replace('\\n','').strip())\n",
    "print(Team[0:10])"
   ]
  },
  {
   "cell_type": "code",
   "execution_count": 50,
   "metadata": {},
   "outputs": [
    {
     "name": "stdout",
     "output_type": "stream",
     "text": [
      "['M. A. Chidambaram Stadium, Chennai', 'Sardar Patel Stadium, Ahmedabad', 'Sardar Patel Stadium, Ahmedabad', 'Sardar Patel Stadium, Ahmedabad', 'Sardar Patel Stadium, Ahmedabad', 'Sardar Patel Stadium, Ahmedabad', 'Sardar Patel Stadium, Ahmedabad', 'Sardar Patel Stadium, Ahmedabad', 'Maharashtra Cricket Association Stadium, Pune', 'Maharashtra Cricket Association Stadium, Pune']\n"
     ]
    }
   ],
   "source": [
    "#scraping the tags for Ground Name:\n",
    "ground_name = driver.find_elements_by_xpath(\"//p[@class='fixture__additional-info']/span\")\n",
    "\n",
    "#Using for loop for iterations\n",
    "#Handling Null Values.\n",
    "for i in ground_name:\n",
    "    if i.text is None:\n",
    "        Ground.append(\" \") \n",
    "    else:\n",
    "        Ground.append(i.text.replace('\\n','').strip())\n",
    "print(Ground[0:10])"
   ]
  },
  {
   "cell_type": "code",
   "execution_count": 51,
   "metadata": {},
   "outputs": [
    {
     "name": "stdout",
     "output_type": "stream",
     "text": [
      "['2nd Test', '3rd Test', '4th Test', '1st T20I', '2nd T20I', '3rd T20I', '4th T20I', '5th T20I', '1st ODI', '2nd ODI']\n"
     ]
    }
   ],
   "source": [
    "#scraping the tags for test and ODI:\n",
    "matches = driver.find_elements_by_xpath(\"//p[@class='fixture__additional-info']/strong\")\n",
    "\n",
    "#Using for loop for iterations\n",
    "#Handling Null Values.\n",
    "for i in matches:\n",
    "    if i.text is None:\n",
    "        Test_ODI.append(\" \") \n",
    "    else:\n",
    "        Test_ODI.append(i.text.replace('\\n','').strip())\n",
    "print(Test_ODI[0:10])"
   ]
  },
  {
   "cell_type": "code",
   "execution_count": 55,
   "metadata": {},
   "outputs": [
    {
     "data": {
      "text/html": [
       "<div>\n",
       "<style scoped>\n",
       "    .dataframe tbody tr th:only-of-type {\n",
       "        vertical-align: middle;\n",
       "    }\n",
       "\n",
       "    .dataframe tbody tr th {\n",
       "        vertical-align: top;\n",
       "    }\n",
       "\n",
       "    .dataframe thead th {\n",
       "        text-align: right;\n",
       "    }\n",
       "</style>\n",
       "<table border=\"1\" class=\"dataframe\">\n",
       "  <thead>\n",
       "    <tr style=\"text-align: right;\">\n",
       "      <th></th>\n",
       "      <th>Team</th>\n",
       "      <th>Series</th>\n",
       "      <th>Ground</th>\n",
       "    </tr>\n",
       "  </thead>\n",
       "  <tbody>\n",
       "    <tr>\n",
       "      <th>0</th>\n",
       "      <td>INDIAvENGLAND</td>\n",
       "      <td>2nd Test</td>\n",
       "      <td>M. A. Chidambaram Stadium, Chennai</td>\n",
       "    </tr>\n",
       "    <tr>\n",
       "      <th>1</th>\n",
       "      <td>INDIAvENGLAND</td>\n",
       "      <td>3rd Test</td>\n",
       "      <td>Sardar Patel Stadium, Ahmedabad</td>\n",
       "    </tr>\n",
       "    <tr>\n",
       "      <th>2</th>\n",
       "      <td>INDIAvENGLAND</td>\n",
       "      <td>4th Test</td>\n",
       "      <td>Sardar Patel Stadium, Ahmedabad</td>\n",
       "    </tr>\n",
       "    <tr>\n",
       "      <th>3</th>\n",
       "      <td>INDIAvENGLAND</td>\n",
       "      <td>1st T20I</td>\n",
       "      <td>Sardar Patel Stadium, Ahmedabad</td>\n",
       "    </tr>\n",
       "    <tr>\n",
       "      <th>4</th>\n",
       "      <td>INDIAvENGLAND</td>\n",
       "      <td>2nd T20I</td>\n",
       "      <td>Sardar Patel Stadium, Ahmedabad</td>\n",
       "    </tr>\n",
       "    <tr>\n",
       "      <th>5</th>\n",
       "      <td>INDIAvENGLAND</td>\n",
       "      <td>3rd T20I</td>\n",
       "      <td>Sardar Patel Stadium, Ahmedabad</td>\n",
       "    </tr>\n",
       "    <tr>\n",
       "      <th>6</th>\n",
       "      <td>INDIAvENGLAND</td>\n",
       "      <td>4th T20I</td>\n",
       "      <td>Sardar Patel Stadium, Ahmedabad</td>\n",
       "    </tr>\n",
       "    <tr>\n",
       "      <th>7</th>\n",
       "      <td>INDIAvENGLAND</td>\n",
       "      <td>5th T20I</td>\n",
       "      <td>Sardar Patel Stadium, Ahmedabad</td>\n",
       "    </tr>\n",
       "    <tr>\n",
       "      <th>8</th>\n",
       "      <td>INDIAvENGLAND</td>\n",
       "      <td>1st ODI</td>\n",
       "      <td>Maharashtra Cricket Association Stadium, Pune</td>\n",
       "    </tr>\n",
       "    <tr>\n",
       "      <th>9</th>\n",
       "      <td>INDIAvENGLAND</td>\n",
       "      <td>2nd ODI</td>\n",
       "      <td>Maharashtra Cricket Association Stadium, Pune</td>\n",
       "    </tr>\n",
       "  </tbody>\n",
       "</table>\n",
       "</div>"
      ],
      "text/plain": [
       "            Team    Series                                         Ground\n",
       "0  INDIAvENGLAND  2nd Test             M. A. Chidambaram Stadium, Chennai\n",
       "1  INDIAvENGLAND  3rd Test                Sardar Patel Stadium, Ahmedabad\n",
       "2  INDIAvENGLAND  4th Test                Sardar Patel Stadium, Ahmedabad\n",
       "3  INDIAvENGLAND  1st T20I                Sardar Patel Stadium, Ahmedabad\n",
       "4  INDIAvENGLAND  2nd T20I                Sardar Patel Stadium, Ahmedabad\n",
       "5  INDIAvENGLAND  3rd T20I                Sardar Patel Stadium, Ahmedabad\n",
       "6  INDIAvENGLAND  4th T20I                Sardar Patel Stadium, Ahmedabad\n",
       "7  INDIAvENGLAND  5th T20I                Sardar Patel Stadium, Ahmedabad\n",
       "8  INDIAvENGLAND   1st ODI  Maharashtra Cricket Association Stadium, Pune\n",
       "9  INDIAvENGLAND   2nd ODI  Maharashtra Cricket Association Stadium, Pune"
      ]
     },
     "execution_count": 55,
     "metadata": {},
     "output_type": "execute_result"
    }
   ],
   "source": [
    "#Defing a Dataframe:\n",
    "International_Fixtures=pd.DataFrame([])\n",
    "International_Fixtures['Team'] = Team[0:10]\n",
    "International_Fixtures['Series'] = Test_ODI[0:10]\n",
    "International_Fixtures['Ground'] = Ground[0:10]\n",
    "International_Fixtures.head(10)"
   ]
  },
  {
   "cell_type": "markdown",
   "metadata": {},
   "source": [
    "# Question No 3:"
   ]
  },
  {
   "cell_type": "code",
   "execution_count": 56,
   "metadata": {},
   "outputs": [],
   "source": [
    "driver = webdriver.Chrome(r\"C:\\Users\\MI Laptop\\Downloads\\chromedriver_win32\\chromedriver.exe\")"
   ]
  },
  {
   "cell_type": "code",
   "execution_count": 57,
   "metadata": {},
   "outputs": [],
   "source": [
    "url_2 = \"https://www.guru99.com/exception-handling-selenium.html\""
   ]
  },
  {
   "cell_type": "code",
   "execution_count": 58,
   "metadata": {},
   "outputs": [],
   "source": [
    "driver.get(url_2)"
   ]
  },
  {
   "cell_type": "code",
   "execution_count": 59,
   "metadata": {},
   "outputs": [],
   "source": [
    "#Creating Empty List:\n",
    "exception = []\n",
    "description = []"
   ]
  },
  {
   "cell_type": "code",
   "execution_count": 60,
   "metadata": {},
   "outputs": [
    {
     "name": "stdout",
     "output_type": "stream",
     "text": [
      "['Exception name', 'ElementNotVisibleException', 'ElementNotSelectableException', 'NoSuchElementException', 'NoSuchFrameException', 'NoAlertPresentException', 'NoSuchWindowException', 'StaleElementReferenceException', 'SessionNotFoundException', 'TimeoutException']\n"
     ]
    }
   ],
   "source": [
    "#scraping the tags for exception:\n",
    "exception_name = driver.find_elements_by_xpath(\"/html/body/div[2]/section[3]/div/div[1]/main/div[1]/div/div/div/div/div/div[2]/table/tbody/tr/td[1]\")\n",
    "\n",
    "#Using for loop for iterations\n",
    "#Handling Null Values.\n",
    "for i in exception_name:\n",
    "    if i.text is None:\n",
    "        exception.append(\" \") \n",
    "    else:\n",
    "        exception.append(i.text.replace('\\n','').strip())\n",
    "print(exception[0:10])"
   ]
  },
  {
   "cell_type": "code",
   "execution_count": 61,
   "metadata": {},
   "outputs": [
    {
     "name": "stdout",
     "output_type": "stream",
     "text": [
      "['Description', 'This type of Selenium exception occurs when an existing element in DOM has a feature set as hidden.', 'This Selenium exception occurs when an element is presented in the DOM, but you can be able to select. Therefore, it is not possible to interact.', 'This Exception occurs if an element could not be found.', 'This Exception occurs if the frame target to be switched to does not exist.', 'This Exception occurs when you switch to no presented alert.', 'This Exception occurs if the window target to be switch does not exist.', 'This Selenium exception occurs happens when the web element is detached from the current DOM.', 'The WebDriver is acting after you quit the browser.', \"Thrown when there is not enough time for a command to be completed. For Example, the element searched wasn't found in the specified time.\"]\n"
     ]
    }
   ],
   "source": [
    "#scraping the tags for description:\n",
    "description_name = driver.find_elements_by_xpath(\"/html/body/div[2]/section[3]/div/div[1]/main/div[1]/div/div/div/div/div/div[2]/table/tbody/tr/td[2]\")\n",
    "\n",
    "#Using for loop for iterations\n",
    "#Handling Null Values.\n",
    "for i in description_name:\n",
    "    if i.text is None:\n",
    "        description.append(\" \") \n",
    "    else:\n",
    "        description.append(i.text.replace('\\n','').strip())\n",
    "print(description[0:10])"
   ]
  },
  {
   "cell_type": "code",
   "execution_count": 63,
   "metadata": {},
   "outputs": [
    {
     "data": {
      "text/html": [
       "<div>\n",
       "<style scoped>\n",
       "    .dataframe tbody tr th:only-of-type {\n",
       "        vertical-align: middle;\n",
       "    }\n",
       "\n",
       "    .dataframe tbody tr th {\n",
       "        vertical-align: top;\n",
       "    }\n",
       "\n",
       "    .dataframe thead th {\n",
       "        text-align: right;\n",
       "    }\n",
       "</style>\n",
       "<table border=\"1\" class=\"dataframe\">\n",
       "  <thead>\n",
       "    <tr style=\"text-align: right;\">\n",
       "      <th></th>\n",
       "      <th>Exception</th>\n",
       "      <th>Description</th>\n",
       "    </tr>\n",
       "  </thead>\n",
       "  <tbody>\n",
       "    <tr>\n",
       "      <th>0</th>\n",
       "      <td>Exception name</td>\n",
       "      <td>Description</td>\n",
       "    </tr>\n",
       "    <tr>\n",
       "      <th>1</th>\n",
       "      <td>ElementNotVisibleException</td>\n",
       "      <td>This type of Selenium exception occurs when an...</td>\n",
       "    </tr>\n",
       "    <tr>\n",
       "      <th>2</th>\n",
       "      <td>ElementNotSelectableException</td>\n",
       "      <td>This Selenium exception occurs when an element...</td>\n",
       "    </tr>\n",
       "    <tr>\n",
       "      <th>3</th>\n",
       "      <td>NoSuchElementException</td>\n",
       "      <td>This Exception occurs if an element could not ...</td>\n",
       "    </tr>\n",
       "    <tr>\n",
       "      <th>4</th>\n",
       "      <td>NoSuchFrameException</td>\n",
       "      <td>This Exception occurs if the frame target to b...</td>\n",
       "    </tr>\n",
       "    <tr>\n",
       "      <th>5</th>\n",
       "      <td>NoAlertPresentException</td>\n",
       "      <td>This Exception occurs when you switch to no pr...</td>\n",
       "    </tr>\n",
       "    <tr>\n",
       "      <th>6</th>\n",
       "      <td>NoSuchWindowException</td>\n",
       "      <td>This Exception occurs if the window target to ...</td>\n",
       "    </tr>\n",
       "    <tr>\n",
       "      <th>7</th>\n",
       "      <td>StaleElementReferenceException</td>\n",
       "      <td>This Selenium exception occurs happens when th...</td>\n",
       "    </tr>\n",
       "    <tr>\n",
       "      <th>8</th>\n",
       "      <td>SessionNotFoundException</td>\n",
       "      <td>The WebDriver is acting after you quit the bro...</td>\n",
       "    </tr>\n",
       "    <tr>\n",
       "      <th>9</th>\n",
       "      <td>TimeoutException</td>\n",
       "      <td>Thrown when there is not enough time for a com...</td>\n",
       "    </tr>\n",
       "  </tbody>\n",
       "</table>\n",
       "</div>"
      ],
      "text/plain": [
       "                        Exception  \\\n",
       "0                  Exception name   \n",
       "1      ElementNotVisibleException   \n",
       "2   ElementNotSelectableException   \n",
       "3          NoSuchElementException   \n",
       "4            NoSuchFrameException   \n",
       "5         NoAlertPresentException   \n",
       "6           NoSuchWindowException   \n",
       "7  StaleElementReferenceException   \n",
       "8        SessionNotFoundException   \n",
       "9                TimeoutException   \n",
       "\n",
       "                                         Description  \n",
       "0                                        Description  \n",
       "1  This type of Selenium exception occurs when an...  \n",
       "2  This Selenium exception occurs when an element...  \n",
       "3  This Exception occurs if an element could not ...  \n",
       "4  This Exception occurs if the frame target to b...  \n",
       "5  This Exception occurs when you switch to no pr...  \n",
       "6  This Exception occurs if the window target to ...  \n",
       "7  This Selenium exception occurs happens when th...  \n",
       "8  The WebDriver is acting after you quit the bro...  \n",
       "9  Thrown when there is not enough time for a com...  "
      ]
     },
     "execution_count": 63,
     "metadata": {},
     "output_type": "execute_result"
    }
   ],
   "source": [
    "#Defining a Dataframe:\n",
    "selenium = pd.DataFrame([])\n",
    "selenium['Exception'] = exception\n",
    "selenium['Description'] = description\n",
    "selenium.head(10)"
   ]
  },
  {
   "cell_type": "markdown",
   "metadata": {},
   "source": [
    "# Question No 5:"
   ]
  },
  {
   "cell_type": "code",
   "execution_count": 125,
   "metadata": {},
   "outputs": [],
   "source": [
    "driver = webdriver.Chrome(r\"C:\\Users\\MI Laptop\\Downloads\\chromedriver_win32\\chromedriver.exe\")"
   ]
  },
  {
   "cell_type": "code",
   "execution_count": 126,
   "metadata": {},
   "outputs": [],
   "source": [
    "url_3 = \"https://github.com/\""
   ]
  },
  {
   "cell_type": "code",
   "execution_count": 127,
   "metadata": {},
   "outputs": [],
   "source": [
    "driver.get(url_3)"
   ]
  },
  {
   "cell_type": "code",
   "execution_count": 128,
   "metadata": {},
   "outputs": [],
   "source": [
    "#Creating Empty List:\n",
    "Repository_Name =[]\n",
    "Language = []\n",
    "Description = []\n",
    "Muted_Link = []"
   ]
  },
  {
   "cell_type": "code",
   "execution_count": 129,
   "metadata": {},
   "outputs": [],
   "source": [
    "#clicking the search button for locating explore:\n",
    "search_1 = driver.find_element_by_xpath('/html/body/div[1]/header/div/div[2]/nav/ul/li[4]/details')     \n",
    "search_1.click()"
   ]
  },
  {
   "cell_type": "code",
   "execution_count": 130,
   "metadata": {},
   "outputs": [],
   "source": [
    "#clicking the search button for locating page:\n",
    "search_2 = driver.find_element_by_xpath('/html/body/div[1]/header/div/div[2]/nav/ul/li[4]/details/div/ul[2]/li[3]')    \n",
    "search_2.click()"
   ]
  },
  {
   "cell_type": "code",
   "execution_count": 131,
   "metadata": {},
   "outputs": [
    {
     "name": "stdout",
     "output_type": "stream",
     "text": [
      "['Melvin-Abraham', 'benawad', 'flameshot-org', 'ratfactor', 'adityatelange', 'libsdl-org', 'satwikkansal', 'mbround18', 'deepmind', 'TheAlgorithms']\n"
     ]
    }
   ],
   "source": [
    "#scraping the tags for repository name:\n",
    "repository = driver.find_elements_by_xpath(\"//span[@class='text-normal']\")\n",
    "\n",
    "#Using for loop for iterations\n",
    "#Handling Null Values.\n",
    "for i in repository:\n",
    "    if i.text is None:\n",
    "        Repository_Name.append(\" \") \n",
    "    else:\n",
    "        Repository_Name.append(i.text.replace('/','').strip())\n",
    "print(Repository_Name[0:10])"
   ]
  },
  {
   "cell_type": "code",
   "execution_count": 132,
   "metadata": {},
   "outputs": [
    {
     "name": "stdout",
     "output_type": "stream",
     "text": [
      "['JavaScript', 'TypeScript', 'C++', 'Zig', 'HTML', 'C', 'Python', 'Rust', 'Jupyter Notebook', 'Java']\n"
     ]
    }
   ],
   "source": [
    "#scraping the tags for Language:\n",
    "language = driver.find_elements_by_xpath(\"//span[@itemprop='programmingLanguage']\")\n",
    "\n",
    "#Using for loop for iterations\n",
    "#Handling Null Values.\n",
    "for i in language:\n",
    "    if i.text is None:\n",
    "        Language.append(\" \") \n",
    "    else:\n",
    "        Language.append(i.text.replace('/','').strip())\n",
    "print(Language[0:10])"
   ]
  },
  {
   "cell_type": "code",
   "execution_count": 133,
   "metadata": {},
   "outputs": [
    {
     "name": "stdout",
     "output_type": "stream",
     "text": [
      "['A cross-platform unofficial Google Assistant Client for Desktop (powered by Google Assistant SDK)', 'The home for voice conversations.', 'Powerful yet simple to use screenshot software 🖥️ 📸', 'Learn the Zig programming language by fixing tiny broken programs.', 'A fast, clean, responsive Hugo theme', 'Simple Directmedia Layer', 'What the f*ck Python? 😱', 'Valheim Docker server with Odin the CLI tool.', 'This repository contains implementations and illustrative code to accompany DeepMind publications', 'All Algorithms implemented in Java']\n"
     ]
    }
   ],
   "source": [
    "#scraping the tags for description:\n",
    "description = driver.find_elements_by_xpath(\"//p[@class='col-9 text-gray my-1 pr-4']\")\n",
    "\n",
    "#Using for loop for iterations\n",
    "#Handling Null Values.\n",
    "for i in description:\n",
    "    if i.text is None:\n",
    "        Description.append(\" \") \n",
    "    else:\n",
    "        Description.append(i.text.replace('/','').strip())\n",
    "print(Description[0:10])"
   ]
  },
  {
   "cell_type": "code",
   "execution_count": 134,
   "metadata": {},
   "outputs": [
    {
     "name": "stdout",
     "output_type": "stream",
     "text": [
      "['927', '50', '1,048', '113', '8,976', '597', '460', '19', '807', '245']\n"
     ]
    }
   ],
   "source": [
    "#scraping the tags for muted link:\n",
    "muted_link = driver.find_elements_by_xpath(\"//a[@class='muted-link d-inline-block mr-3']\")\n",
    "\n",
    "#Using for loop for iterations\n",
    "#Handling Null Values.\n",
    "for i in muted_link:\n",
    "    if i.text is None:\n",
    "        Muted_Link.append(\" \") \n",
    "    else:\n",
    "        Muted_Link.append(i.text.replace('/','').strip())\n",
    "print(Muted_Link[0:10])"
   ]
  },
  {
   "cell_type": "code",
   "execution_count": 135,
   "metadata": {},
   "outputs": [
    {
     "name": "stdout",
     "output_type": "stream",
     "text": [
      "['927', '1,048', '8,976', '460', '807', '695', '25,144', '158', '5,416', '35,120']\n"
     ]
    }
   ],
   "source": [
    "#Fetching Muted_star:\n",
    "Muted_Star=[]\n",
    "for i in range(0,len(Muted_Link),2):\n",
    "    Muted_Star.append(Muted_Link[i])\n",
    "    \n",
    "print(Muted_Star[0:10])"
   ]
  },
  {
   "cell_type": "code",
   "execution_count": 137,
   "metadata": {},
   "outputs": [
    {
     "data": {
      "text/html": [
       "<div>\n",
       "<style scoped>\n",
       "    .dataframe tbody tr th:only-of-type {\n",
       "        vertical-align: middle;\n",
       "    }\n",
       "\n",
       "    .dataframe tbody tr th {\n",
       "        vertical-align: top;\n",
       "    }\n",
       "\n",
       "    .dataframe thead th {\n",
       "        text-align: right;\n",
       "    }\n",
       "</style>\n",
       "<table border=\"1\" class=\"dataframe\">\n",
       "  <thead>\n",
       "    <tr style=\"text-align: right;\">\n",
       "      <th></th>\n",
       "      <th>Name</th>\n",
       "      <th>Description</th>\n",
       "      <th>Language</th>\n",
       "      <th>Muted_Star</th>\n",
       "    </tr>\n",
       "  </thead>\n",
       "  <tbody>\n",
       "    <tr>\n",
       "      <th>0</th>\n",
       "      <td>Melvin-Abraham</td>\n",
       "      <td>A cross-platform unofficial Google Assistant C...</td>\n",
       "      <td>JavaScript</td>\n",
       "      <td>927</td>\n",
       "    </tr>\n",
       "    <tr>\n",
       "      <th>1</th>\n",
       "      <td>benawad</td>\n",
       "      <td>The home for voice conversations.</td>\n",
       "      <td>TypeScript</td>\n",
       "      <td>1,048</td>\n",
       "    </tr>\n",
       "    <tr>\n",
       "      <th>2</th>\n",
       "      <td>flameshot-org</td>\n",
       "      <td>Powerful yet simple to use screenshot software...</td>\n",
       "      <td>C++</td>\n",
       "      <td>8,976</td>\n",
       "    </tr>\n",
       "    <tr>\n",
       "      <th>3</th>\n",
       "      <td>ratfactor</td>\n",
       "      <td>Learn the Zig programming language by fixing t...</td>\n",
       "      <td>Zig</td>\n",
       "      <td>460</td>\n",
       "    </tr>\n",
       "    <tr>\n",
       "      <th>4</th>\n",
       "      <td>adityatelange</td>\n",
       "      <td>A fast, clean, responsive Hugo theme</td>\n",
       "      <td>HTML</td>\n",
       "      <td>807</td>\n",
       "    </tr>\n",
       "    <tr>\n",
       "      <th>5</th>\n",
       "      <td>libsdl-org</td>\n",
       "      <td>Simple Directmedia Layer</td>\n",
       "      <td>C</td>\n",
       "      <td>695</td>\n",
       "    </tr>\n",
       "    <tr>\n",
       "      <th>6</th>\n",
       "      <td>satwikkansal</td>\n",
       "      <td>What the f*ck Python? 😱</td>\n",
       "      <td>Python</td>\n",
       "      <td>25,144</td>\n",
       "    </tr>\n",
       "    <tr>\n",
       "      <th>7</th>\n",
       "      <td>mbround18</td>\n",
       "      <td>Valheim Docker server with Odin the CLI tool.</td>\n",
       "      <td>Rust</td>\n",
       "      <td>158</td>\n",
       "    </tr>\n",
       "    <tr>\n",
       "      <th>8</th>\n",
       "      <td>deepmind</td>\n",
       "      <td>This repository contains implementations and i...</td>\n",
       "      <td>Jupyter Notebook</td>\n",
       "      <td>5,416</td>\n",
       "    </tr>\n",
       "    <tr>\n",
       "      <th>9</th>\n",
       "      <td>TheAlgorithms</td>\n",
       "      <td>All Algorithms implemented in Java</td>\n",
       "      <td>Java</td>\n",
       "      <td>35,120</td>\n",
       "    </tr>\n",
       "  </tbody>\n",
       "</table>\n",
       "</div>"
      ],
      "text/plain": [
       "             Name                                        Description  \\\n",
       "0  Melvin-Abraham  A cross-platform unofficial Google Assistant C...   \n",
       "1         benawad                  The home for voice conversations.   \n",
       "2   flameshot-org  Powerful yet simple to use screenshot software...   \n",
       "3       ratfactor  Learn the Zig programming language by fixing t...   \n",
       "4   adityatelange               A fast, clean, responsive Hugo theme   \n",
       "5      libsdl-org                           Simple Directmedia Layer   \n",
       "6    satwikkansal                            What the f*ck Python? 😱   \n",
       "7       mbround18      Valheim Docker server with Odin the CLI tool.   \n",
       "8        deepmind  This repository contains implementations and i...   \n",
       "9   TheAlgorithms                 All Algorithms implemented in Java   \n",
       "\n",
       "           Language Muted_Star  \n",
       "0        JavaScript        927  \n",
       "1        TypeScript      1,048  \n",
       "2               C++      8,976  \n",
       "3               Zig        460  \n",
       "4              HTML        807  \n",
       "5                 C        695  \n",
       "6            Python     25,144  \n",
       "7              Rust        158  \n",
       "8  Jupyter Notebook      5,416  \n",
       "9              Java     35,120  "
      ]
     },
     "execution_count": 137,
     "metadata": {},
     "output_type": "execute_result"
    }
   ],
   "source": [
    "#Defining a Dataframe:\n",
    "Trending_Repository = pd.DataFrame([])\n",
    "Trending_Repository['Name'] = Repository_Name[0:10]\n",
    "Trending_Repository['Description'] = Description[0:10]\n",
    "Trending_Repository['Language']=Language[0:10]\n",
    "Trending_Repository['Muted_Star'] = Muted_Star[0:10]\n",
    "Trending_Repository.head(10)"
   ]
  },
  {
   "cell_type": "markdown",
   "metadata": {},
   "source": [
    "# Question No 6:"
   ]
  },
  {
   "cell_type": "code",
   "execution_count": 168,
   "metadata": {},
   "outputs": [],
   "source": [
    "driver = webdriver.Chrome(r\"C:\\Users\\MI Laptop\\Downloads\\chromedriver_win32\\chromedriver.exe\")"
   ]
  },
  {
   "cell_type": "code",
   "execution_count": 155,
   "metadata": {},
   "outputs": [],
   "source": [
    "url_4 = \"https://www.billboard.com/\""
   ]
  },
  {
   "cell_type": "code",
   "execution_count": 156,
   "metadata": {},
   "outputs": [],
   "source": [
    "driver.get(url_4)"
   ]
  },
  {
   "cell_type": "code",
   "execution_count": 157,
   "metadata": {},
   "outputs": [],
   "source": [
    "Song_Name = []\n",
    "Singer = []\n",
    "Rank = []\n",
    "Last_Week = []\n",
    "Weeks_on_board = []"
   ]
  },
  {
   "cell_type": "code",
   "execution_count": 158,
   "metadata": {},
   "outputs": [],
   "source": [
    "#clicking the search button for locating top 100:\n",
    "search_1 = driver.find_element_by_xpath('//*[@id=\"root\"]/div[2]/div[2]/nav/ul/li[3]')     \n",
    "search_1.click()"
   ]
  },
  {
   "cell_type": "code",
   "execution_count": 159,
   "metadata": {},
   "outputs": [
    {
     "name": "stdout",
     "output_type": "stream",
     "text": [
      "['1', '1', '1', '2', '5', '5', '1', '8', '3', '10']\n"
     ]
    }
   ],
   "source": [
    "#scraping the tags for rank:\n",
    "rank = driver.find_elements_by_xpath(\"//div[@class='chart-element__meta text--center color--secondary text--peak']\")\n",
    "\n",
    "#Using for loop for iterations\n",
    "#Handling Null Values.\n",
    "for i in rank:\n",
    "    if i.text is None:\n",
    "        Rank.append(\" \") \n",
    "    else:\n",
    "        Rank.append(i.text.replace('/','').strip())\n",
    "print(Rank[0:10])"
   ]
  },
  {
   "cell_type": "code",
   "execution_count": 160,
   "metadata": {},
   "outputs": [
    {
     "name": "stdout",
     "output_type": "stream",
     "text": [
      "['Drivers License', 'Mood', 'Blinding Lights', '34+35', 'Levitating', 'Go Crazy', 'Positions', 'Save Your Tears', 'Holy', 'Whoopty']\n"
     ]
    }
   ],
   "source": [
    "#scraping the tags for song name:\n",
    "song_name = driver.find_elements_by_xpath(\"//span[@class='chart-element__information__song text--truncate color--primary']\")\n",
    "\n",
    "#Using for loop for iterations\n",
    "#Handling Null Values.\n",
    "for i in song_name:\n",
    "    if i.text is None:\n",
    "        Song_Name.append(\" \") \n",
    "    else:\n",
    "        Song_Name.append(i.text.replace('/','').strip())\n",
    "print(Song_Name[0:10])"
   ]
  },
  {
   "cell_type": "code",
   "execution_count": 161,
   "metadata": {},
   "outputs": [
    {
     "name": "stdout",
     "output_type": "stream",
     "text": [
      "['Olivia Rodrigo', '24kGoldn Featuring iann dior', 'The Weeknd', 'Ariana Grande', 'Dua Lipa Featuring DaBaby', 'Chris Brown & Young Thug', 'Ariana Grande', 'The Weeknd', 'Justin Bieber Featuring Chance The Rapper', 'CJ']\n"
     ]
    }
   ],
   "source": [
    "#scraping the tags for singer:\n",
    "singer = driver.find_elements_by_xpath(\"//span[@class='chart-element__information__artist text--truncate color--secondary']\")\n",
    "\n",
    "#Using for loop for iterations\n",
    "#Handling Null Values.\n",
    "for i in singer:\n",
    "    if i.text is None:\n",
    "        Singer.append(\" \") \n",
    "    else:\n",
    "        Singer.append(i.text.replace('/','').strip())\n",
    "print(Singer[0:10])"
   ]
  },
  {
   "cell_type": "code",
   "execution_count": 162,
   "metadata": {},
   "outputs": [
    {
     "name": "stdout",
     "output_type": "stream",
     "text": [
      "['1', '2', '3', '4', '5', '6', '7', '14', '8', '16']\n"
     ]
    }
   ],
   "source": [
    "#scraping the tags for last week rank:\n",
    "last_week_rank = driver.find_elements_by_xpath(\"//div[@class='chart-element__meta text--center color--secondary text--last']\")\n",
    "#Using for loop for iterations\n",
    "#Handling Null Values.\n",
    "for i in last_week_rank:\n",
    "    if i.text is None:\n",
    "        Last_Week.append(\" \") \n",
    "    else:\n",
    "        Last_Week.append(i.text.replace('/','').strip())\n",
    "print(Last_Week[0:10])"
   ]
  },
  {
   "cell_type": "code",
   "execution_count": 163,
   "metadata": {},
   "outputs": [
    {
     "name": "stdout",
     "output_type": "stream",
     "text": [
      "['4', '26', '61', '14', '18', '39', '15', '8', '20', '13']\n"
     ]
    }
   ],
   "source": [
    "#scraping the tags for week on board:\n",
    "week_on_board = driver.find_elements_by_xpath(\"//div[@class='chart-element__meta text--center color--secondary text--week']\")\n",
    "\n",
    "#Using for loop for iterations\n",
    "#Handling Null Values.\n",
    "for i in week_on_board:\n",
    "    if i.text is None:\n",
    "        Weeks_on_board.append(\" \") \n",
    "    else:\n",
    "        Weeks_on_board.append(i.text.replace('/','').strip())\n",
    "print(Weeks_on_board[0:10])"
   ]
  },
  {
   "cell_type": "code",
   "execution_count": 165,
   "metadata": {},
   "outputs": [
    {
     "data": {
      "text/html": [
       "<div>\n",
       "<style scoped>\n",
       "    .dataframe tbody tr th:only-of-type {\n",
       "        vertical-align: middle;\n",
       "    }\n",
       "\n",
       "    .dataframe tbody tr th {\n",
       "        vertical-align: top;\n",
       "    }\n",
       "\n",
       "    .dataframe thead th {\n",
       "        text-align: right;\n",
       "    }\n",
       "</style>\n",
       "<table border=\"1\" class=\"dataframe\">\n",
       "  <thead>\n",
       "    <tr style=\"text-align: right;\">\n",
       "      <th></th>\n",
       "      <th>Rank</th>\n",
       "      <th>Song_Name</th>\n",
       "      <th>Singer</th>\n",
       "      <th>Last_Week_Rank</th>\n",
       "      <th>Weeks_on_board</th>\n",
       "    </tr>\n",
       "  </thead>\n",
       "  <tbody>\n",
       "    <tr>\n",
       "      <th>0</th>\n",
       "      <td>1</td>\n",
       "      <td>Drivers License</td>\n",
       "      <td>Olivia Rodrigo</td>\n",
       "      <td>1</td>\n",
       "      <td>4</td>\n",
       "    </tr>\n",
       "    <tr>\n",
       "      <th>1</th>\n",
       "      <td>1</td>\n",
       "      <td>Mood</td>\n",
       "      <td>24kGoldn Featuring iann dior</td>\n",
       "      <td>2</td>\n",
       "      <td>26</td>\n",
       "    </tr>\n",
       "    <tr>\n",
       "      <th>2</th>\n",
       "      <td>1</td>\n",
       "      <td>Blinding Lights</td>\n",
       "      <td>The Weeknd</td>\n",
       "      <td>3</td>\n",
       "      <td>61</td>\n",
       "    </tr>\n",
       "    <tr>\n",
       "      <th>3</th>\n",
       "      <td>2</td>\n",
       "      <td>34+35</td>\n",
       "      <td>Ariana Grande</td>\n",
       "      <td>4</td>\n",
       "      <td>14</td>\n",
       "    </tr>\n",
       "    <tr>\n",
       "      <th>4</th>\n",
       "      <td>5</td>\n",
       "      <td>Levitating</td>\n",
       "      <td>Dua Lipa Featuring DaBaby</td>\n",
       "      <td>5</td>\n",
       "      <td>18</td>\n",
       "    </tr>\n",
       "    <tr>\n",
       "      <th>5</th>\n",
       "      <td>5</td>\n",
       "      <td>Go Crazy</td>\n",
       "      <td>Chris Brown &amp; Young Thug</td>\n",
       "      <td>6</td>\n",
       "      <td>39</td>\n",
       "    </tr>\n",
       "    <tr>\n",
       "      <th>6</th>\n",
       "      <td>1</td>\n",
       "      <td>Positions</td>\n",
       "      <td>Ariana Grande</td>\n",
       "      <td>7</td>\n",
       "      <td>15</td>\n",
       "    </tr>\n",
       "    <tr>\n",
       "      <th>7</th>\n",
       "      <td>8</td>\n",
       "      <td>Save Your Tears</td>\n",
       "      <td>The Weeknd</td>\n",
       "      <td>14</td>\n",
       "      <td>8</td>\n",
       "    </tr>\n",
       "    <tr>\n",
       "      <th>8</th>\n",
       "      <td>3</td>\n",
       "      <td>Holy</td>\n",
       "      <td>Justin Bieber Featuring Chance The Rapper</td>\n",
       "      <td>8</td>\n",
       "      <td>20</td>\n",
       "    </tr>\n",
       "    <tr>\n",
       "      <th>9</th>\n",
       "      <td>10</td>\n",
       "      <td>Whoopty</td>\n",
       "      <td>CJ</td>\n",
       "      <td>16</td>\n",
       "      <td>13</td>\n",
       "    </tr>\n",
       "  </tbody>\n",
       "</table>\n",
       "</div>"
      ],
      "text/plain": [
       "  Rank        Song_Name                                     Singer  \\\n",
       "0    1  Drivers License                             Olivia Rodrigo   \n",
       "1    1             Mood               24kGoldn Featuring iann dior   \n",
       "2    1  Blinding Lights                                 The Weeknd   \n",
       "3    2            34+35                              Ariana Grande   \n",
       "4    5       Levitating                  Dua Lipa Featuring DaBaby   \n",
       "5    5         Go Crazy                   Chris Brown & Young Thug   \n",
       "6    1        Positions                              Ariana Grande   \n",
       "7    8  Save Your Tears                                 The Weeknd   \n",
       "8    3             Holy  Justin Bieber Featuring Chance The Rapper   \n",
       "9   10          Whoopty                                         CJ   \n",
       "\n",
       "  Last_Week_Rank Weeks_on_board  \n",
       "0              1              4  \n",
       "1              2             26  \n",
       "2              3             61  \n",
       "3              4             14  \n",
       "4              5             18  \n",
       "5              6             39  \n",
       "6              7             15  \n",
       "7             14              8  \n",
       "8              8             20  \n",
       "9             16             13  "
      ]
     },
     "execution_count": 165,
     "metadata": {},
     "output_type": "execute_result"
    }
   ],
   "source": [
    "#Defining a Dataframe:\n",
    "Top_Song = pd.DataFrame([])\n",
    "Top_Song['Rank'] = Rank[0:10]\n",
    "Top_Song['Song_Name'] = Song_Name[0:10]\n",
    "Top_Song['Singer'] = Singer[0:10]\n",
    "Top_Song['Last_Week_Rank'] = Last_Week[0:10]\n",
    "Top_Song['Weeks_on_board'] = Weeks_on_board[0:10]\n",
    "Top_Song.head(10)"
   ]
  },
  {
   "cell_type": "markdown",
   "metadata": {},
   "source": [
    "# Question No 7:"
   ]
  },
  {
   "cell_type": "code",
   "execution_count": 196,
   "metadata": {},
   "outputs": [],
   "source": [
    "driver = webdriver.Chrome(r\"C:\\Users\\MI Laptop\\Downloads\\chromedriver_win32\\chromedriver.exe\")"
   ]
  },
  {
   "cell_type": "code",
   "execution_count": 197,
   "metadata": {},
   "outputs": [],
   "source": [
    "url_5 = \"https://www.naukri.com/data-science-jobs?k=data%20science\""
   ]
  },
  {
   "cell_type": "code",
   "execution_count": 198,
   "metadata": {},
   "outputs": [],
   "source": [
    " driver.get(url_5)"
   ]
  },
  {
   "cell_type": "code",
   "execution_count": 199,
   "metadata": {},
   "outputs": [],
   "source": [
    "#Creating Empty List:\n",
    "Job_Title = []\n",
    "Company_Name = []\n",
    "Skill = []\n",
    "Salary = []\n",
    "Location = []"
   ]
  },
  {
   "cell_type": "code",
   "execution_count": 200,
   "metadata": {},
   "outputs": [
    {
     "name": "stdout",
     "output_type": "stream",
     "text": [
      "['Machine Learning-Python, AI  ML developer, Data Science', 'Data Science', 'Data Science', 'Data Science Engineer', 'Data Science Team Lead - Retail', 'Data Science - Team Lead (CRM)', 'BI Analyst ( Data Science )', 'Urgently Hiring Trainee - Data Science :: Hitech Isolutions LLP!!!!', 'Data Science Engineer - Java  Python  R Developer', 'Data Science']\n"
     ]
    }
   ],
   "source": [
    "#scraping the tags for Job_Title:\n",
    "job_Title = driver.find_elements_by_xpath(\"//a[@class='title fw500 ellipsis']\")\n",
    "\n",
    "#Using for loop for iterations\n",
    "#Handling Null Values.\n",
    "for i in job_Title:\n",
    "    if i.text is None:\n",
    "        Job_Title.append(\" \") \n",
    "    else:\n",
    "        Job_Title.append(i.text.replace('/','').strip())\n",
    "print(Job_Title[0:10])"
   ]
  },
  {
   "cell_type": "code",
   "execution_count": 201,
   "metadata": {},
   "outputs": [
    {
     "name": "stdout",
     "output_type": "stream",
     "text": [
      "['Infomize Technologies', 'Capgemini Technology Services India Limited', 'Diverse Lynx', 'Everwell Health Solutions Pvt Ltd', 'Shell India Markets Private Limited', 'Shell India Markets Private Limited', 'American Bureau of Shipping', 'Hi-Tech iSolutions LLP', 'Intellicar Telematics Pvt Ltd', 'Cybage']\n"
     ]
    }
   ],
   "source": [
    "#scraping the tags for Company_Name:\n",
    "company_name = driver.find_elements_by_xpath(\"//a[@class='subTitle ellipsis fleft']\")\n",
    "\n",
    "#Using for loop for iterations\n",
    "#Handling Null Values.\n",
    "for i in company_name:\n",
    "    if i.text is None:\n",
    "        Company_Name.append(\" \") \n",
    "    else:\n",
    "        Company_Name.append(i.text.replace('/','').strip())\n",
    "print(Company_Name[0:10])"
   ]
  },
  {
   "cell_type": "code",
   "execution_count": 185,
   "metadata": {},
   "outputs": [
    {
     "name": "stdout",
     "output_type": "stream",
     "text": [
      "['Data ProcessingIT SkillsJavaTensorflowArtificial IntelligenceNatural Language ProcessingData AnalysisData Extraction', 'IT SkillsPythonTestingData Sciencesoftware architecturedeep learningData analysisdata science', 'IT SkillsPythonData ScienceMachine LearningSupply chainData analysisPrototypeConsulting', 'IT SkillsPythonBig DataProduct managementComputer scienceData analysisData modelingHealthcare', 'Direct MarketingRFactor AnalysisTeam Management SkillsCustomer AnalyticsTime SeriesMarket Basket AnalysisMachine Learning', 'MicrostrategyBusiness objectsSAPSASTIBCOTeradataBusiness intelligencemicrosoft', 'Data Science', 'IT SkillsData ScienceMachine LearningStatistical programmingData analysisStatistical modelingSASdata science', 'Project ManagementArtificial IntelligencePerformance MetricsStudent EngagementSalesExecutionSenior ManagementPeople Management', 'Data Science3D PrintingMachine LearningBig Data AnalyticsSoftware DevelopmentArtificial IntelligenceInternet of Things -IOT']\n"
     ]
    }
   ],
   "source": [
    "#scraping the tags for Skill:\n",
    "skill = driver.find_elements_by_xpath(\"//ul[@class='tags has-description']\")\n",
    "\n",
    "#Using for loop for iterations\n",
    "#Handling Null Values.\n",
    "for i in skill:\n",
    "    if i.text is None:\n",
    "        Skill.append(\" \") \n",
    "    else:\n",
    "        Skill.append(i.text.replace('\\n','').strip())\n",
    "print(Skill[0:10])"
   ]
  },
  {
   "cell_type": "code",
   "execution_count": 203,
   "metadata": {},
   "outputs": [
    {
     "name": "stdout",
     "output_type": "stream",
     "text": [
      "['2,00,000 - 7,00,000 PA.', 'Not disclosed', 'Not disclosed', 'Not disclosed', 'Not disclosed', 'Not disclosed', 'Not disclosed', '50,000 - 3,00,000 PA.', 'Not disclosed', 'Not disclosed']\n"
     ]
    }
   ],
   "source": [
    "#scraping the tags for Salary:\n",
    "salary = driver.find_elements_by_xpath(\"//li[@class='fleft grey-text br2 placeHolderLi salary']/span\")\n",
    "\n",
    "#Using for loop for iterations\n",
    "#Handling Null Values.\n",
    "for i in salary:\n",
    "    if i.text is None:\n",
    "        Salary.append(\" \") \n",
    "    else:\n",
    "        Salary.append(i.text.replace('\\n','').strip())\n",
    "print(Salary[0:10])"
   ]
  },
  {
   "cell_type": "code",
   "execution_count": 204,
   "metadata": {},
   "outputs": [
    {
     "name": "stdout",
     "output_type": "stream",
     "text": [
      "['Ahmedabad', 'Chennai', 'Gurgaon', 'Bengaluru', 'Bengaluru', 'Bengaluru', 'Chennai', 'Ahmedabad', 'Bengaluru', 'Pune']\n"
     ]
    }
   ],
   "source": [
    "#scraping the tags for Location:\n",
    "location  = driver.find_elements_by_xpath(\"//li[@class='fleft grey-text br2 placeHolderLi location']/span\")\n",
    "\n",
    "#Using for loop for iterations\n",
    "#Handling Null Values.\n",
    "for i in location:\n",
    "    if i.text is None:\n",
    "        Location .append(\" \") \n",
    "    else:\n",
    "        Location .append(i.text.replace('\\n','').strip())\n",
    "print(Location [0:10])"
   ]
  },
  {
   "cell_type": "code",
   "execution_count": 205,
   "metadata": {},
   "outputs": [
    {
     "data": {
      "text/html": [
       "<div>\n",
       "<style scoped>\n",
       "    .dataframe tbody tr th:only-of-type {\n",
       "        vertical-align: middle;\n",
       "    }\n",
       "\n",
       "    .dataframe tbody tr th {\n",
       "        vertical-align: top;\n",
       "    }\n",
       "\n",
       "    .dataframe thead th {\n",
       "        text-align: right;\n",
       "    }\n",
       "</style>\n",
       "<table border=\"1\" class=\"dataframe\">\n",
       "  <thead>\n",
       "    <tr style=\"text-align: right;\">\n",
       "      <th></th>\n",
       "      <th>Job_Title</th>\n",
       "      <th>Skill</th>\n",
       "      <th>Company_Name</th>\n",
       "      <th>Salary</th>\n",
       "      <th>Location</th>\n",
       "    </tr>\n",
       "  </thead>\n",
       "  <tbody>\n",
       "    <tr>\n",
       "      <th>0</th>\n",
       "      <td>Machine Learning-Python, AI  ML developer, Dat...</td>\n",
       "      <td>Data ProcessingIT SkillsJavaTensorflowArtifici...</td>\n",
       "      <td>Infomize Technologies</td>\n",
       "      <td>2,00,000 - 7,00,000 PA.</td>\n",
       "      <td>Ahmedabad</td>\n",
       "    </tr>\n",
       "    <tr>\n",
       "      <th>1</th>\n",
       "      <td>Data Science</td>\n",
       "      <td>IT SkillsPythonTestingData Sciencesoftware arc...</td>\n",
       "      <td>Capgemini Technology Services India Limited</td>\n",
       "      <td>Not disclosed</td>\n",
       "      <td>Chennai</td>\n",
       "    </tr>\n",
       "    <tr>\n",
       "      <th>2</th>\n",
       "      <td>Data Science</td>\n",
       "      <td>IT SkillsPythonData ScienceMachine LearningSup...</td>\n",
       "      <td>Diverse Lynx</td>\n",
       "      <td>Not disclosed</td>\n",
       "      <td>Gurgaon</td>\n",
       "    </tr>\n",
       "    <tr>\n",
       "      <th>3</th>\n",
       "      <td>Data Science Engineer</td>\n",
       "      <td>IT SkillsPythonBig DataProduct managementCompu...</td>\n",
       "      <td>Everwell Health Solutions Pvt Ltd</td>\n",
       "      <td>Not disclosed</td>\n",
       "      <td>Bengaluru</td>\n",
       "    </tr>\n",
       "    <tr>\n",
       "      <th>4</th>\n",
       "      <td>Data Science Team Lead - Retail</td>\n",
       "      <td>Multivariate AnalysisData ScienceRFactor Analy...</td>\n",
       "      <td>Shell India Markets Private Limited</td>\n",
       "      <td>Not disclosed</td>\n",
       "      <td>Bengaluru</td>\n",
       "    </tr>\n",
       "    <tr>\n",
       "      <th>5</th>\n",
       "      <td>Data Science - Team Lead (CRM)</td>\n",
       "      <td>Direct MarketingRFactor AnalysisTeam Managemen...</td>\n",
       "      <td>Shell India Markets Private Limited</td>\n",
       "      <td>Not disclosed</td>\n",
       "      <td>Bengaluru</td>\n",
       "    </tr>\n",
       "    <tr>\n",
       "      <th>6</th>\n",
       "      <td>BI Analyst ( Data Science )</td>\n",
       "      <td>MicrostrategyBusiness objectsSAPSASTIBCOTerada...</td>\n",
       "      <td>American Bureau of Shipping</td>\n",
       "      <td>Not disclosed</td>\n",
       "      <td>Chennai</td>\n",
       "    </tr>\n",
       "    <tr>\n",
       "      <th>7</th>\n",
       "      <td>Urgently Hiring Trainee - Data Science :: Hite...</td>\n",
       "      <td>Data Science</td>\n",
       "      <td>Hi-Tech iSolutions LLP</td>\n",
       "      <td>50,000 - 3,00,000 PA.</td>\n",
       "      <td>Ahmedabad</td>\n",
       "    </tr>\n",
       "    <tr>\n",
       "      <th>8</th>\n",
       "      <td>Data Science Engineer - Java  Python  R Developer</td>\n",
       "      <td>Data ScienceJavaHiveRScalaSparkmachine learnin...</td>\n",
       "      <td>Intellicar Telematics Pvt Ltd</td>\n",
       "      <td>Not disclosed</td>\n",
       "      <td>Bengaluru</td>\n",
       "    </tr>\n",
       "    <tr>\n",
       "      <th>9</th>\n",
       "      <td>Data Science</td>\n",
       "      <td>IT SkillsData ScienceMachine LearningStatistic...</td>\n",
       "      <td>Cybage</td>\n",
       "      <td>Not disclosed</td>\n",
       "      <td>Pune</td>\n",
       "    </tr>\n",
       "  </tbody>\n",
       "</table>\n",
       "</div>"
      ],
      "text/plain": [
       "                                           Job_Title  \\\n",
       "0  Machine Learning-Python, AI  ML developer, Dat...   \n",
       "1                                       Data Science   \n",
       "2                                       Data Science   \n",
       "3                              Data Science Engineer   \n",
       "4                    Data Science Team Lead - Retail   \n",
       "5                     Data Science - Team Lead (CRM)   \n",
       "6                        BI Analyst ( Data Science )   \n",
       "7  Urgently Hiring Trainee - Data Science :: Hite...   \n",
       "8  Data Science Engineer - Java  Python  R Developer   \n",
       "9                                       Data Science   \n",
       "\n",
       "                                               Skill  \\\n",
       "0  Data ProcessingIT SkillsJavaTensorflowArtifici...   \n",
       "1  IT SkillsPythonTestingData Sciencesoftware arc...   \n",
       "2  IT SkillsPythonData ScienceMachine LearningSup...   \n",
       "3  IT SkillsPythonBig DataProduct managementCompu...   \n",
       "4  Multivariate AnalysisData ScienceRFactor Analy...   \n",
       "5  Direct MarketingRFactor AnalysisTeam Managemen...   \n",
       "6  MicrostrategyBusiness objectsSAPSASTIBCOTerada...   \n",
       "7                                       Data Science   \n",
       "8  Data ScienceJavaHiveRScalaSparkmachine learnin...   \n",
       "9  IT SkillsData ScienceMachine LearningStatistic...   \n",
       "\n",
       "                                  Company_Name                   Salary  \\\n",
       "0                        Infomize Technologies  2,00,000 - 7,00,000 PA.   \n",
       "1  Capgemini Technology Services India Limited            Not disclosed   \n",
       "2                                 Diverse Lynx            Not disclosed   \n",
       "3            Everwell Health Solutions Pvt Ltd            Not disclosed   \n",
       "4          Shell India Markets Private Limited            Not disclosed   \n",
       "5          Shell India Markets Private Limited            Not disclosed   \n",
       "6                  American Bureau of Shipping            Not disclosed   \n",
       "7                       Hi-Tech iSolutions LLP    50,000 - 3,00,000 PA.   \n",
       "8                Intellicar Telematics Pvt Ltd            Not disclosed   \n",
       "9                                       Cybage            Not disclosed   \n",
       "\n",
       "    Location  \n",
       "0  Ahmedabad  \n",
       "1    Chennai  \n",
       "2    Gurgaon  \n",
       "3  Bengaluru  \n",
       "4  Bengaluru  \n",
       "5  Bengaluru  \n",
       "6    Chennai  \n",
       "7  Ahmedabad  \n",
       "8  Bengaluru  \n",
       "9       Pune  "
      ]
     },
     "execution_count": 205,
     "metadata": {},
     "output_type": "execute_result"
    }
   ],
   "source": [
    "#Defining a Dataframe:\n",
    "job = pd.DataFrame([])\n",
    "job['Job_Title'] = Job_Title[0:10]\n",
    "job['Skill'] = Skill[0:10]\n",
    "job['Company_Name'] = Company_Name[0:10]\n",
    "job['Salary'] = Salary[0:10]\n",
    "job['Location'] = Location[0:10]\n",
    "job.head(10)"
   ]
  },
  {
   "cell_type": "markdown",
   "metadata": {},
   "source": [
    "# Question No 8:"
   ]
  },
  {
   "cell_type": "code",
   "execution_count": 218,
   "metadata": {},
   "outputs": [],
   "source": [
    "driver = webdriver.Chrome(r\"C:\\Users\\MI Laptop\\Downloads\\chromedriver_win32\\chromedriver.exe\")"
   ]
  },
  {
   "cell_type": "code",
   "execution_count": 219,
   "metadata": {},
   "outputs": [],
   "source": [
    "url_6 = \"https://www.theguardian.com/news/datablog/2012/aug/09/best-selling-books-all-time-fifty-shades-grey-compare\""
   ]
  },
  {
   "cell_type": "code",
   "execution_count": 220,
   "metadata": {},
   "outputs": [],
   "source": [
    "driver.get(url_6)"
   ]
  },
  {
   "cell_type": "code",
   "execution_count": 221,
   "metadata": {},
   "outputs": [],
   "source": [
    "#Creating Empty List:\n",
    "Book_name = []\n",
    "Author_name = []\n",
    "Volumes_sold = []\n",
    "Publisher = []\n",
    "Genre = []"
   ]
  },
  {
   "cell_type": "code",
   "execution_count": 222,
   "metadata": {},
   "outputs": [
    {
     "name": "stdout",
     "output_type": "stream",
     "text": [
      "['Da Vinci Code,The', 'Harry Potter and the Deathly Hallows', \"Harry Potter and the Philosopher's Stone\", 'Harry Potter and the Order of the Phoenix', 'Fifty Shades of Grey', 'Harry Potter and the Goblet of Fire', 'Harry Potter and the Chamber of Secrets', 'Harry Potter and the Prisoner of Azkaban', 'Angels and Demons', \"Harry Potter and the Half-blood Prince:Children's Edition\"]\n"
     ]
    }
   ],
   "source": [
    "#scraping the tags for Book_name \n",
    "book_name = driver.find_elements_by_xpath(\"/html/body/div/div[2]/div[2]/div/div[2]/div/table/tbody/tr/td[2]\")\n",
    "for i in book_name:\n",
    "    if i.text is None :\n",
    "        Book_name.append(\" \") \n",
    "    else:\n",
    "        Book_name.append(i.text.replace('\\n','').strip())\n",
    "print(Book_name[0:10])"
   ]
  },
  {
   "cell_type": "code",
   "execution_count": 223,
   "metadata": {},
   "outputs": [
    {
     "name": "stdout",
     "output_type": "stream",
     "text": [
      "['Brown, Dan', 'Rowling, J.K.', 'Rowling, J.K.', 'Rowling, J.K.', 'James, E. L.', 'Rowling, J.K.', 'Rowling, J.K.', 'Rowling, J.K.', 'Brown, Dan', 'Rowling, J.K.']\n"
     ]
    }
   ],
   "source": [
    "#scraping the tags for Author_name \n",
    "author_name  = driver.find_elements_by_xpath(\"/html/body/div/div[2]/div[2]/div/div[2]/div/table/tbody/tr/td[3]\")\n",
    "for i in author_name:\n",
    "    if i.text is None :\n",
    "        Author_name.append(\"--\") \n",
    "    else:\n",
    "        Author_name.append(i.text.replace('\\n','').strip())\n",
    "print(Author_name[0:10])"
   ]
  },
  {
   "cell_type": "code",
   "execution_count": 224,
   "metadata": {},
   "outputs": [
    {
     "name": "stdout",
     "output_type": "stream",
     "text": [
      "['Transworld', 'Bloomsbury', 'Bloomsbury', 'Bloomsbury', 'Random House', 'Bloomsbury', 'Bloomsbury', 'Bloomsbury', 'Transworld', 'Bloomsbury']\n"
     ]
    }
   ],
   "source": [
    "#scraping the tags for Publisher \n",
    "publisher  = driver.find_elements_by_xpath(\"/html/body/div/div[2]/div[2]/div/div[2]/div/table/tbody/tr/td[5]\")\n",
    "for i in publisher:\n",
    "    if i.text is None :\n",
    "        Publisher.append(\"--\") \n",
    "    else:\n",
    "        Publisher.append(i.text.replace('\\n','').strip())\n",
    "print(Publisher[0:10])"
   ]
  },
  {
   "cell_type": "code",
   "execution_count": 225,
   "metadata": {},
   "outputs": [
    {
     "name": "stdout",
     "output_type": "stream",
     "text": [
      "['5,094,805', '4,475,152', '4,200,654', '4,179,479', '3,758,936', '3,583,215', '3,484,047', '3,377,906', '3,193,946', '2,950,264']\n"
     ]
    }
   ],
   "source": [
    "#scraping the tags for Volumes_sold  \n",
    "volumes_sold   = driver.find_elements_by_xpath(\"/html/body/div/div[2]/div[2]/div/div[2]/div/table/tbody/tr/td[4]\")\n",
    "for i in volumes_sold:\n",
    "    if i.text is None :\n",
    "        Volumes_sold.append(\" \") \n",
    "    else:\n",
    "        Volumes_sold.append(i.text.replace('\\n','').strip())\n",
    "print(Volumes_sold[0:10])"
   ]
  },
  {
   "cell_type": "code",
   "execution_count": 227,
   "metadata": {},
   "outputs": [
    {
     "name": "stdout",
     "output_type": "stream",
     "text": [
      "['Crime, Thriller & Adventure', \"Children's Fiction\", \"Children's Fiction\", \"Children's Fiction\", 'Romance & Sagas', \"Children's Fiction\", \"Children's Fiction\", \"Children's Fiction\", 'Crime, Thriller & Adventure', \"Children's Fiction\"]\n"
     ]
    }
   ],
   "source": [
    "#scraping tags for Genre \n",
    "genere = driver.find_elements_by_xpath(\"/html/body/div/div[2]/div[2]/div/div[2]/div/table/tbody/tr/td[6]\")\n",
    "for i in genere:\n",
    "    if i.text is None :\n",
    "        Genre.append(\" \") \n",
    "    else:\n",
    "        Genre.append(i.text.replace('\\n','').strip())\n",
    "print(Genre[0:10])"
   ]
  },
  {
   "cell_type": "code",
   "execution_count": 228,
   "metadata": {},
   "outputs": [
    {
     "data": {
      "text/html": [
       "<div>\n",
       "<style scoped>\n",
       "    .dataframe tbody tr th:only-of-type {\n",
       "        vertical-align: middle;\n",
       "    }\n",
       "\n",
       "    .dataframe tbody tr th {\n",
       "        vertical-align: top;\n",
       "    }\n",
       "\n",
       "    .dataframe thead th {\n",
       "        text-align: right;\n",
       "    }\n",
       "</style>\n",
       "<table border=\"1\" class=\"dataframe\">\n",
       "  <thead>\n",
       "    <tr style=\"text-align: right;\">\n",
       "      <th></th>\n",
       "      <th>Book_name</th>\n",
       "      <th>Author_name</th>\n",
       "      <th>Genre</th>\n",
       "      <th>Publisher</th>\n",
       "      <th>Volumes_sold</th>\n",
       "    </tr>\n",
       "  </thead>\n",
       "  <tbody>\n",
       "    <tr>\n",
       "      <th>0</th>\n",
       "      <td>Da Vinci Code,The</td>\n",
       "      <td>Brown, Dan</td>\n",
       "      <td>Crime, Thriller &amp; Adventure</td>\n",
       "      <td>Transworld</td>\n",
       "      <td>5,094,805</td>\n",
       "    </tr>\n",
       "    <tr>\n",
       "      <th>1</th>\n",
       "      <td>Harry Potter and the Deathly Hallows</td>\n",
       "      <td>Rowling, J.K.</td>\n",
       "      <td>Children's Fiction</td>\n",
       "      <td>Bloomsbury</td>\n",
       "      <td>4,475,152</td>\n",
       "    </tr>\n",
       "    <tr>\n",
       "      <th>2</th>\n",
       "      <td>Harry Potter and the Philosopher's Stone</td>\n",
       "      <td>Rowling, J.K.</td>\n",
       "      <td>Children's Fiction</td>\n",
       "      <td>Bloomsbury</td>\n",
       "      <td>4,200,654</td>\n",
       "    </tr>\n",
       "    <tr>\n",
       "      <th>3</th>\n",
       "      <td>Harry Potter and the Order of the Phoenix</td>\n",
       "      <td>Rowling, J.K.</td>\n",
       "      <td>Children's Fiction</td>\n",
       "      <td>Bloomsbury</td>\n",
       "      <td>4,179,479</td>\n",
       "    </tr>\n",
       "    <tr>\n",
       "      <th>4</th>\n",
       "      <td>Fifty Shades of Grey</td>\n",
       "      <td>James, E. L.</td>\n",
       "      <td>Romance &amp; Sagas</td>\n",
       "      <td>Random House</td>\n",
       "      <td>3,758,936</td>\n",
       "    </tr>\n",
       "    <tr>\n",
       "      <th>5</th>\n",
       "      <td>Harry Potter and the Goblet of Fire</td>\n",
       "      <td>Rowling, J.K.</td>\n",
       "      <td>Children's Fiction</td>\n",
       "      <td>Bloomsbury</td>\n",
       "      <td>3,583,215</td>\n",
       "    </tr>\n",
       "    <tr>\n",
       "      <th>6</th>\n",
       "      <td>Harry Potter and the Chamber of Secrets</td>\n",
       "      <td>Rowling, J.K.</td>\n",
       "      <td>Children's Fiction</td>\n",
       "      <td>Bloomsbury</td>\n",
       "      <td>3,484,047</td>\n",
       "    </tr>\n",
       "    <tr>\n",
       "      <th>7</th>\n",
       "      <td>Harry Potter and the Prisoner of Azkaban</td>\n",
       "      <td>Rowling, J.K.</td>\n",
       "      <td>Children's Fiction</td>\n",
       "      <td>Bloomsbury</td>\n",
       "      <td>3,377,906</td>\n",
       "    </tr>\n",
       "    <tr>\n",
       "      <th>8</th>\n",
       "      <td>Angels and Demons</td>\n",
       "      <td>Brown, Dan</td>\n",
       "      <td>Crime, Thriller &amp; Adventure</td>\n",
       "      <td>Transworld</td>\n",
       "      <td>3,193,946</td>\n",
       "    </tr>\n",
       "    <tr>\n",
       "      <th>9</th>\n",
       "      <td>Harry Potter and the Half-blood Prince:Childre...</td>\n",
       "      <td>Rowling, J.K.</td>\n",
       "      <td>Children's Fiction</td>\n",
       "      <td>Bloomsbury</td>\n",
       "      <td>2,950,264</td>\n",
       "    </tr>\n",
       "  </tbody>\n",
       "</table>\n",
       "</div>"
      ],
      "text/plain": [
       "                                           Book_name    Author_name  \\\n",
       "0                                  Da Vinci Code,The     Brown, Dan   \n",
       "1               Harry Potter and the Deathly Hallows  Rowling, J.K.   \n",
       "2           Harry Potter and the Philosopher's Stone  Rowling, J.K.   \n",
       "3          Harry Potter and the Order of the Phoenix  Rowling, J.K.   \n",
       "4                               Fifty Shades of Grey   James, E. L.   \n",
       "5                Harry Potter and the Goblet of Fire  Rowling, J.K.   \n",
       "6            Harry Potter and the Chamber of Secrets  Rowling, J.K.   \n",
       "7           Harry Potter and the Prisoner of Azkaban  Rowling, J.K.   \n",
       "8                                  Angels and Demons     Brown, Dan   \n",
       "9  Harry Potter and the Half-blood Prince:Childre...  Rowling, J.K.   \n",
       "\n",
       "                         Genre     Publisher Volumes_sold  \n",
       "0  Crime, Thriller & Adventure    Transworld    5,094,805  \n",
       "1           Children's Fiction    Bloomsbury    4,475,152  \n",
       "2           Children's Fiction    Bloomsbury    4,200,654  \n",
       "3           Children's Fiction    Bloomsbury    4,179,479  \n",
       "4              Romance & Sagas  Random House    3,758,936  \n",
       "5           Children's Fiction    Bloomsbury    3,583,215  \n",
       "6           Children's Fiction    Bloomsbury    3,484,047  \n",
       "7           Children's Fiction    Bloomsbury    3,377,906  \n",
       "8  Crime, Thriller & Adventure    Transworld    3,193,946  \n",
       "9           Children's Fiction    Bloomsbury    2,950,264  "
      ]
     },
     "execution_count": 228,
     "metadata": {},
     "output_type": "execute_result"
    }
   ],
   "source": [
    "Book = pd.DataFrame([])\n",
    "Book['Book_name'] = Book_name[0:10]\n",
    "Book['Author_name'] = Author_name[0:10]\n",
    "Book['Genre'] = Genre[0:10]\n",
    "Book['Publisher'] = Publisher[0:10]\n",
    "Book['Volumes_sold'] = Volumes_sold[0:10]\n",
    "Book.head(10)"
   ]
  },
  {
   "cell_type": "markdown",
   "metadata": {},
   "source": [
    "# Question No 9:"
   ]
  },
  {
   "cell_type": "code",
   "execution_count": 229,
   "metadata": {},
   "outputs": [],
   "source": [
    "driver = webdriver.Chrome(r\"C:\\Users\\MI Laptop\\Downloads\\chromedriver_win32\\chromedriver.exe\")"
   ]
  },
  {
   "cell_type": "code",
   "execution_count": 231,
   "metadata": {},
   "outputs": [],
   "source": [
    "url_7 = \"https://www.imdb.com/list/ls095964455/\""
   ]
  },
  {
   "cell_type": "code",
   "execution_count": 232,
   "metadata": {},
   "outputs": [],
   "source": [
    "driver.get(url_7)"
   ]
  },
  {
   "cell_type": "code",
   "execution_count": 233,
   "metadata": {},
   "outputs": [],
   "source": [
    "#Creating Empty List:\n",
    "Name = []\n",
    "Year_span = []\n",
    "Genres = []\n",
    "Run_time = []\n",
    "Ratings = []\n",
    "Votes = []"
   ]
  },
  {
   "cell_type": "code",
   "execution_count": 234,
   "metadata": {},
   "outputs": [
    {
     "name": "stdout",
     "output_type": "stream",
     "text": [
      "['Game of Thrones', 'Stranger Things', 'The Walking Dead', '13 Reasons Why', 'The 100', 'Orange Is the New Black', 'Riverdale', \"Grey's Anatomy\", 'The Flash', 'Arrow']\n"
     ]
    }
   ],
   "source": [
    "#scraping the tags for Name \n",
    "name = driver.find_elements_by_xpath(\"//div[@class='lister-item-content']/h3/a\")\n",
    "for i in name:\n",
    "    if i.text is None :\n",
    "        Name.append(\"--\") \n",
    "    else:\n",
    "        Name.append(i.text.replace('\\n','').strip())\n",
    "print(Name[0:10])"
   ]
  },
  {
   "cell_type": "code",
   "execution_count": 235,
   "metadata": {},
   "outputs": [
    {
     "name": "stdout",
     "output_type": "stream",
     "text": [
      "['(2011–2019)', '(2016– )', '(2010– )', '(2017–2020)', '(2014–2020)', '(2013–2019)', '(2017– )', '(2005– )', '(2014– )', '(2012–2020)']\n"
     ]
    }
   ],
   "source": [
    "#scraping the tags Year_span \n",
    "year_span = driver.find_elements_by_xpath(\"//span[@class='lister-item-year text-muted unbold']\")\n",
    "for i in year_span:\n",
    "    if i.text is None :\n",
    "        Year_span.append(\"--\") \n",
    "    else:\n",
    "        Year_span.append(i.text.replace('\\n','').strip())\n",
    "print(Year_span[0:10])"
   ]
  },
  {
   "cell_type": "code",
   "execution_count": 236,
   "metadata": {},
   "outputs": [
    {
     "name": "stdout",
     "output_type": "stream",
     "text": [
      "['Action, Adventure, Drama', 'Drama, Fantasy, Horror', 'Drama, Horror, Thriller', 'Drama, Mystery, Thriller', 'Drama, Mystery, Sci-Fi', 'Comedy, Crime, Drama', 'Crime, Drama, Mystery', 'Drama, Romance', 'Action, Adventure, Drama', 'Action, Adventure, Crime']\n"
     ]
    }
   ],
   "source": [
    "#scraping the Genres \n",
    "genere = driver.find_elements_by_xpath(\"//p[@class='text-muted text-small']/span[5]\")\n",
    "for i in genere:\n",
    "    if i.text is None :\n",
    "        Genres.append(\"--\") \n",
    "    else:\n",
    "        Genres.append(i.text.replace('\\n','').strip())\n",
    "print(Genres[0:10])"
   ]
  },
  {
   "cell_type": "code",
   "execution_count": 237,
   "metadata": {},
   "outputs": [
    {
     "name": "stdout",
     "output_type": "stream",
     "text": [
      "['57 min', '51 min', '44 min', '60 min', '43 min', '59 min', '45 min', '41 min', '43 min', '42 min']\n"
     ]
    }
   ],
   "source": [
    "#scraping the tags Run_time \n",
    "runtime = driver.find_elements_by_xpath(\"//p[@class='text-muted text-small']/span[3]\")\n",
    "for i in runtime:\n",
    "    if i.text is None :\n",
    "        Run_time.append(\"--\") \n",
    "    else:\n",
    "        Run_time.append(i.text)\n",
    "print(Run_time[0:10])"
   ]
  },
  {
   "cell_type": "code",
   "execution_count": 238,
   "metadata": {},
   "outputs": [
    {
     "name": "stdout",
     "output_type": "stream",
     "text": [
      "['9.3', '8.7', '8.2', '7.6', '7.6', '8.1', '6.9', '7.6', '7.7', '7.5']\n"
     ]
    }
   ],
   "source": [
    "#scraping the tags Ratings \n",
    "ratings = driver.find_elements_by_xpath(\"//div[@class='ipl-rating-star small']/span[2]\")\n",
    "for i in ratings:\n",
    "    if i.text is None :\n",
    "        Ratings.append(\"--\") \n",
    "    else:\n",
    "        Ratings.append(i.text.replace('\\n','').strip())\n",
    "print(Ratings[0:10])"
   ]
  },
  {
   "cell_type": "code",
   "execution_count": 239,
   "metadata": {},
   "outputs": [
    {
     "name": "stdout",
     "output_type": "stream",
     "text": [
      "['1,770,246', '822,412', '853,476', '256,213', '216,490', '278,925', '118,093', '250,973', '305,273', '407,639']\n"
     ]
    }
   ],
   "source": [
    "#scraping the tags Votes \n",
    "votes = driver.find_elements_by_xpath(\"//div[@class='lister-item-content']/p[4]/span[2]\")\n",
    "for i in votes:\n",
    "    if i.text is None :\n",
    "        Votes.append(\"--\") \n",
    "    else:\n",
    "        Votes.append(i.text.replace('\\n','').strip())\n",
    "print(Votes[0:10])"
   ]
  },
  {
   "cell_type": "code",
   "execution_count": 241,
   "metadata": {},
   "outputs": [
    {
     "data": {
      "text/html": [
       "<div>\n",
       "<style scoped>\n",
       "    .dataframe tbody tr th:only-of-type {\n",
       "        vertical-align: middle;\n",
       "    }\n",
       "\n",
       "    .dataframe tbody tr th {\n",
       "        vertical-align: top;\n",
       "    }\n",
       "\n",
       "    .dataframe thead th {\n",
       "        text-align: right;\n",
       "    }\n",
       "</style>\n",
       "<table border=\"1\" class=\"dataframe\">\n",
       "  <thead>\n",
       "    <tr style=\"text-align: right;\">\n",
       "      <th></th>\n",
       "      <th>Name</th>\n",
       "      <th>Year_span</th>\n",
       "      <th>Run_time</th>\n",
       "      <th>Genres</th>\n",
       "      <th>Ratings</th>\n",
       "      <th>Votes</th>\n",
       "    </tr>\n",
       "  </thead>\n",
       "  <tbody>\n",
       "    <tr>\n",
       "      <th>0</th>\n",
       "      <td>Game of Thrones</td>\n",
       "      <td>(2011–2019)</td>\n",
       "      <td>57 min</td>\n",
       "      <td>Action, Adventure, Drama</td>\n",
       "      <td>9.3</td>\n",
       "      <td>1,770,246</td>\n",
       "    </tr>\n",
       "    <tr>\n",
       "      <th>1</th>\n",
       "      <td>Stranger Things</td>\n",
       "      <td>(2016– )</td>\n",
       "      <td>51 min</td>\n",
       "      <td>Drama, Fantasy, Horror</td>\n",
       "      <td>8.7</td>\n",
       "      <td>822,412</td>\n",
       "    </tr>\n",
       "    <tr>\n",
       "      <th>2</th>\n",
       "      <td>The Walking Dead</td>\n",
       "      <td>(2010– )</td>\n",
       "      <td>44 min</td>\n",
       "      <td>Drama, Horror, Thriller</td>\n",
       "      <td>8.2</td>\n",
       "      <td>853,476</td>\n",
       "    </tr>\n",
       "    <tr>\n",
       "      <th>3</th>\n",
       "      <td>13 Reasons Why</td>\n",
       "      <td>(2017–2020)</td>\n",
       "      <td>60 min</td>\n",
       "      <td>Drama, Mystery, Thriller</td>\n",
       "      <td>7.6</td>\n",
       "      <td>256,213</td>\n",
       "    </tr>\n",
       "    <tr>\n",
       "      <th>4</th>\n",
       "      <td>The 100</td>\n",
       "      <td>(2014–2020)</td>\n",
       "      <td>43 min</td>\n",
       "      <td>Drama, Mystery, Sci-Fi</td>\n",
       "      <td>7.6</td>\n",
       "      <td>216,490</td>\n",
       "    </tr>\n",
       "    <tr>\n",
       "      <th>5</th>\n",
       "      <td>Orange Is the New Black</td>\n",
       "      <td>(2013–2019)</td>\n",
       "      <td>59 min</td>\n",
       "      <td>Comedy, Crime, Drama</td>\n",
       "      <td>8.1</td>\n",
       "      <td>278,925</td>\n",
       "    </tr>\n",
       "    <tr>\n",
       "      <th>6</th>\n",
       "      <td>Riverdale</td>\n",
       "      <td>(2017– )</td>\n",
       "      <td>45 min</td>\n",
       "      <td>Crime, Drama, Mystery</td>\n",
       "      <td>6.9</td>\n",
       "      <td>118,093</td>\n",
       "    </tr>\n",
       "    <tr>\n",
       "      <th>7</th>\n",
       "      <td>Grey's Anatomy</td>\n",
       "      <td>(2005– )</td>\n",
       "      <td>41 min</td>\n",
       "      <td>Drama, Romance</td>\n",
       "      <td>7.6</td>\n",
       "      <td>250,973</td>\n",
       "    </tr>\n",
       "    <tr>\n",
       "      <th>8</th>\n",
       "      <td>The Flash</td>\n",
       "      <td>(2014– )</td>\n",
       "      <td>43 min</td>\n",
       "      <td>Action, Adventure, Drama</td>\n",
       "      <td>7.7</td>\n",
       "      <td>305,273</td>\n",
       "    </tr>\n",
       "    <tr>\n",
       "      <th>9</th>\n",
       "      <td>Arrow</td>\n",
       "      <td>(2012–2020)</td>\n",
       "      <td>42 min</td>\n",
       "      <td>Action, Adventure, Crime</td>\n",
       "      <td>7.5</td>\n",
       "      <td>407,639</td>\n",
       "    </tr>\n",
       "  </tbody>\n",
       "</table>\n",
       "</div>"
      ],
      "text/plain": [
       "                      Name    Year_span Run_time                    Genres  \\\n",
       "0          Game of Thrones  (2011–2019)   57 min  Action, Adventure, Drama   \n",
       "1          Stranger Things     (2016– )   51 min    Drama, Fantasy, Horror   \n",
       "2         The Walking Dead     (2010– )   44 min   Drama, Horror, Thriller   \n",
       "3           13 Reasons Why  (2017–2020)   60 min  Drama, Mystery, Thriller   \n",
       "4                  The 100  (2014–2020)   43 min    Drama, Mystery, Sci-Fi   \n",
       "5  Orange Is the New Black  (2013–2019)   59 min      Comedy, Crime, Drama   \n",
       "6                Riverdale     (2017– )   45 min     Crime, Drama, Mystery   \n",
       "7           Grey's Anatomy     (2005– )   41 min            Drama, Romance   \n",
       "8                The Flash     (2014– )   43 min  Action, Adventure, Drama   \n",
       "9                    Arrow  (2012–2020)   42 min  Action, Adventure, Crime   \n",
       "\n",
       "  Ratings      Votes  \n",
       "0     9.3  1,770,246  \n",
       "1     8.7    822,412  \n",
       "2     8.2    853,476  \n",
       "3     7.6    256,213  \n",
       "4     7.6    216,490  \n",
       "5     8.1    278,925  \n",
       "6     6.9    118,093  \n",
       "7     7.6    250,973  \n",
       "8     7.7    305,273  \n",
       "9     7.5    407,639  "
      ]
     },
     "execution_count": 241,
     "metadata": {},
     "output_type": "execute_result"
    }
   ],
   "source": [
    "#Defining a Dataframe:\n",
    "TV_Series = pd.DataFrame([])\n",
    "TV_Series['Name'] = Name[0:10]\n",
    "TV_Series['Year_span'] = Year_span[0:10]\n",
    "TV_Series['Run_time'] = Run_time[0:10]\n",
    "TV_Series['Genres'] = Genres[0:10]\n",
    "TV_Series['Ratings'] = Ratings[0:10]\n",
    "TV_Series['Votes'] = Votes[0:10]\n",
    "TV_Series.head(10)"
   ]
  },
  {
   "cell_type": "markdown",
   "metadata": {},
   "source": [
    "# Question No 10:"
   ]
  },
  {
   "cell_type": "code",
   "execution_count": 242,
   "metadata": {},
   "outputs": [],
   "source": [
    "driver = webdriver.Chrome(r\"C:\\Users\\MI Laptop\\Downloads\\chromedriver_win32\\chromedriver.exe\")"
   ]
  },
  {
   "cell_type": "code",
   "execution_count": 243,
   "metadata": {},
   "outputs": [],
   "source": [
    "url_8 = \"https://archive.ics.uci.edu/ml/index.php\""
   ]
  },
  {
   "cell_type": "code",
   "execution_count": 244,
   "metadata": {},
   "outputs": [],
   "source": [
    "driver.get(url_8)"
   ]
  },
  {
   "cell_type": "code",
   "execution_count": 245,
   "metadata": {},
   "outputs": [],
   "source": [
    "#Creating Empty List:\n",
    "Dataset_Name = []\n",
    "Data_Type = []\n",
    "Task = []\n",
    "Attribute_Type = []\n",
    "No_of_Instances = []\n",
    "No_of_Attribute = []\n",
    "Year = []"
   ]
  },
  {
   "cell_type": "code",
   "execution_count": 246,
   "metadata": {},
   "outputs": [],
   "source": [
    "#clicking the search button for locating datasets:\n",
    "search_1 = driver.find_element_by_xpath('/html/body/table[1]/tbody/tr/td[2]/span[2]/a')   \n",
    "search_1.click()"
   ]
  },
  {
   "cell_type": "code",
   "execution_count": 247,
   "metadata": {},
   "outputs": [
    {
     "name": "stdout",
     "output_type": "stream",
     "text": [
      "['Abalone', 'Adult', 'Annealing', 'Anonymous Microsoft Web Data', 'Arrhythmia', 'Artificial Characters', 'Audiology (Original)', 'Audiology (Standardized)', 'Auto MPG', 'Automobile']\n"
     ]
    }
   ],
   "source": [
    "#scraping the Dataset_Name \n",
    "name = driver.find_elements_by_xpath(\"/html/body/table[2]/tbody/tr/td[2]/table[2]/tbody/tr/td[1]/table/tbody/tr/td[2]/p/b/a\")\n",
    "for i in name:\n",
    "    if i.text is None :\n",
    "        Dataset_Name.append(\"--\") \n",
    "    else:\n",
    "        Dataset_Name.append(i.text.replace('\\n','').strip())\n",
    "print(Dataset_Name[0:10])"
   ]
  },
  {
   "cell_type": "code",
   "execution_count": 248,
   "metadata": {},
   "outputs": [
    {
     "name": "stdout",
     "output_type": "stream",
     "text": [
      "['Data Types', 'Multivariate', 'Multivariate', 'Multivariate', '', 'Multivariate', 'Multivariate', 'Multivariate', 'Multivariate', 'Multivariate']\n"
     ]
    }
   ],
   "source": [
    "#scraping the Data_Type \n",
    "d_type=driver.find_elements_by_xpath(\"/html/body/table[2]/tbody/tr/td[2]/table[2]/tbody/tr/td[2]\")\n",
    "for i in d_type:\n",
    "    if i.text is None :\n",
    "        Data_Type.append(\" \") \n",
    "    else:\n",
    "        Data_Type.append(i.text.replace('\\n','').strip())\n",
    "print(Data_Type[0:10])"
   ]
  },
  {
   "cell_type": "code",
   "execution_count": 249,
   "metadata": {},
   "outputs": [
    {
     "name": "stdout",
     "output_type": "stream",
     "text": [
      "['Default Task', 'Classification', 'Classification', 'Classification', 'Recommender-Systems', 'Classification', 'Classification', 'Classification', 'Classification', 'Regression']\n"
     ]
    }
   ],
   "source": [
    "#scraping the tags for Task \n",
    "task = driver.find_elements_by_xpath(\"/html/body/table[2]/tbody/tr/td[2]/table[2]/tbody/tr/td[3]\")\n",
    "for i in task:\n",
    "    if i.text is None :\n",
    "        Task.append(\"--\") \n",
    "    else:\n",
    "        Task.append(i.text.replace('\\n','').strip())\n",
    "print(Task[0:10])"
   ]
  },
  {
   "cell_type": "code",
   "execution_count": 250,
   "metadata": {},
   "outputs": [
    {
     "name": "stdout",
     "output_type": "stream",
     "text": [
      "['Attribute Types', 'Categorical, Integer, Real', 'Categorical, Integer', 'Categorical, Integer, Real', 'Categorical', 'Categorical, Integer, Real', 'Categorical, Integer, Real', 'Categorical', 'Categorical', 'Categorical, Real']\n"
     ]
    }
   ],
   "source": [
    "#scraping the Attribute_Type \n",
    "attributes = driver.find_elements_by_xpath(\"/html/body/table[2]/tbody/tr/td[2]/table[2]/tbody/tr/td[4]\")\n",
    "for i in attributes:\n",
    "    if i.text is None :\n",
    "        Attribute_Type.append(\"--\") \n",
    "    else:\n",
    "        Attribute_Type.append(i.text.replace('\\n','').strip())\n",
    "print(Attribute_Type[0:10])"
   ]
  },
  {
   "cell_type": "code",
   "execution_count": 252,
   "metadata": {},
   "outputs": [
    {
     "name": "stdout",
     "output_type": "stream",
     "text": [
      "['4177', '48842', '798', '37711', '452', '6000', '226', '226', '398']\n"
     ]
    }
   ],
   "source": [
    "#scraping the No_of_Instances \n",
    "number_of_instances = driver.find_elements_by_xpath(\"/html/body/table[2]/tbody/tr/td[2]/table[2]/tbody/tr/td[5]\")\n",
    "for i in number_of_instances:\n",
    "    if i.text is None :\n",
    "        No_of_Instances.append(\"--\") \n",
    "    else:\n",
    "        No_of_Instances.append(i.text.replace('\\n','').strip())\n",
    "print(No_of_Instances[1:10])"
   ]
  },
  {
   "cell_type": "code",
   "execution_count": 254,
   "metadata": {},
   "outputs": [
    {
     "name": "stdout",
     "output_type": "stream",
     "text": [
      "['1995 ', '1996 ', ' ', '1998 ', '1998 ', '1992 ', '1987 ', '1992 ', '1993 ']\n"
     ]
    }
   ],
   "source": [
    "#scraping the Year \n",
    "year = driver.find_elements_by_xpath(\"/html/body/table[2]/tbody/tr/td[2]/table[2]/tbody/tr/td[7]/p\")\n",
    "for i in year:\n",
    "    if i.text is None :\n",
    "        Year.append(\" \") \n",
    "    else:\n",
    "        Year.append(i.text)\n",
    "print(Year[1:10])"
   ]
  },
  {
   "cell_type": "code",
   "execution_count": 255,
   "metadata": {},
   "outputs": [
    {
     "data": {
      "text/html": [
       "<div>\n",
       "<style scoped>\n",
       "    .dataframe tbody tr th:only-of-type {\n",
       "        vertical-align: middle;\n",
       "    }\n",
       "\n",
       "    .dataframe tbody tr th {\n",
       "        vertical-align: top;\n",
       "    }\n",
       "\n",
       "    .dataframe thead th {\n",
       "        text-align: right;\n",
       "    }\n",
       "</style>\n",
       "<table border=\"1\" class=\"dataframe\">\n",
       "  <thead>\n",
       "    <tr style=\"text-align: right;\">\n",
       "      <th></th>\n",
       "      <th>Dataset_Name</th>\n",
       "      <th>Data_Type</th>\n",
       "      <th>Task</th>\n",
       "      <th>Attribute_Type</th>\n",
       "      <th>No_of_Instances</th>\n",
       "      <th>Year</th>\n",
       "    </tr>\n",
       "  </thead>\n",
       "  <tbody>\n",
       "    <tr>\n",
       "      <th>0</th>\n",
       "      <td>Adult</td>\n",
       "      <td>Multivariate</td>\n",
       "      <td>Classification</td>\n",
       "      <td>Categorical, Integer, Real</td>\n",
       "      <td>4177</td>\n",
       "      <td>1995</td>\n",
       "    </tr>\n",
       "    <tr>\n",
       "      <th>1</th>\n",
       "      <td>Annealing</td>\n",
       "      <td>Multivariate</td>\n",
       "      <td>Classification</td>\n",
       "      <td>Categorical, Integer</td>\n",
       "      <td>48842</td>\n",
       "      <td>1996</td>\n",
       "    </tr>\n",
       "    <tr>\n",
       "      <th>2</th>\n",
       "      <td>Anonymous Microsoft Web Data</td>\n",
       "      <td>Multivariate</td>\n",
       "      <td>Classification</td>\n",
       "      <td>Categorical, Integer, Real</td>\n",
       "      <td>798</td>\n",
       "      <td></td>\n",
       "    </tr>\n",
       "    <tr>\n",
       "      <th>3</th>\n",
       "      <td>Arrhythmia</td>\n",
       "      <td></td>\n",
       "      <td>Recommender-Systems</td>\n",
       "      <td>Categorical</td>\n",
       "      <td>37711</td>\n",
       "      <td>1998</td>\n",
       "    </tr>\n",
       "    <tr>\n",
       "      <th>4</th>\n",
       "      <td>Artificial Characters</td>\n",
       "      <td>Multivariate</td>\n",
       "      <td>Classification</td>\n",
       "      <td>Categorical, Integer, Real</td>\n",
       "      <td>452</td>\n",
       "      <td>1998</td>\n",
       "    </tr>\n",
       "    <tr>\n",
       "      <th>5</th>\n",
       "      <td>Audiology (Original)</td>\n",
       "      <td>Multivariate</td>\n",
       "      <td>Classification</td>\n",
       "      <td>Categorical, Integer, Real</td>\n",
       "      <td>6000</td>\n",
       "      <td>1992</td>\n",
       "    </tr>\n",
       "    <tr>\n",
       "      <th>6</th>\n",
       "      <td>Audiology (Standardized)</td>\n",
       "      <td>Multivariate</td>\n",
       "      <td>Classification</td>\n",
       "      <td>Categorical</td>\n",
       "      <td>226</td>\n",
       "      <td>1987</td>\n",
       "    </tr>\n",
       "    <tr>\n",
       "      <th>7</th>\n",
       "      <td>Auto MPG</td>\n",
       "      <td>Multivariate</td>\n",
       "      <td>Classification</td>\n",
       "      <td>Categorical</td>\n",
       "      <td>226</td>\n",
       "      <td>1992</td>\n",
       "    </tr>\n",
       "    <tr>\n",
       "      <th>8</th>\n",
       "      <td>Automobile</td>\n",
       "      <td>Multivariate</td>\n",
       "      <td>Regression</td>\n",
       "      <td>Categorical, Real</td>\n",
       "      <td>398</td>\n",
       "      <td>1993</td>\n",
       "    </tr>\n",
       "    <tr>\n",
       "      <th>9</th>\n",
       "      <td>Badges</td>\n",
       "      <td>Multivariate</td>\n",
       "      <td>Regression</td>\n",
       "      <td>Categorical, Integer, Real</td>\n",
       "      <td>205</td>\n",
       "      <td>1987</td>\n",
       "    </tr>\n",
       "  </tbody>\n",
       "</table>\n",
       "</div>"
      ],
      "text/plain": [
       "                   Dataset_Name     Data_Type                 Task  \\\n",
       "0                         Adult  Multivariate       Classification   \n",
       "1                     Annealing  Multivariate       Classification   \n",
       "2  Anonymous Microsoft Web Data  Multivariate       Classification   \n",
       "3                    Arrhythmia                Recommender-Systems   \n",
       "4         Artificial Characters  Multivariate       Classification   \n",
       "5          Audiology (Original)  Multivariate       Classification   \n",
       "6      Audiology (Standardized)  Multivariate       Classification   \n",
       "7                      Auto MPG  Multivariate       Classification   \n",
       "8                    Automobile  Multivariate           Regression   \n",
       "9                        Badges  Multivariate           Regression   \n",
       "\n",
       "               Attribute_Type No_of_Instances   Year  \n",
       "0  Categorical, Integer, Real            4177  1995   \n",
       "1        Categorical, Integer           48842  1996   \n",
       "2  Categorical, Integer, Real             798         \n",
       "3                 Categorical           37711  1998   \n",
       "4  Categorical, Integer, Real             452  1998   \n",
       "5  Categorical, Integer, Real            6000  1992   \n",
       "6                 Categorical             226  1987   \n",
       "7                 Categorical             226  1992   \n",
       "8           Categorical, Real             398  1993   \n",
       "9  Categorical, Integer, Real             205  1987   "
      ]
     },
     "execution_count": 255,
     "metadata": {},
     "output_type": "execute_result"
    }
   ],
   "source": [
    "#Defining a Dataframe:\n",
    "UCI=pd.DataFrame([])\n",
    "UCI['Dataset_Name'] = Dataset_Name[1:100]\n",
    "UCI['Data_Type'] = Data_Type[1:100]\n",
    "UCI['Task'] = Task[1:100]\n",
    "UCI['Attribute_Type'] = Attribute_Type[1:100]\n",
    "UCI['No_of_Instances'] = No_of_Instances[1:100]\n",
    "UCI['Year'] = Year[1:100]\n",
    "UCI.head(10)"
   ]
  }
 ],
 "metadata": {
  "kernelspec": {
   "display_name": "Python 3",
   "language": "python",
   "name": "python3"
  },
  "language_info": {
   "codemirror_mode": {
    "name": "ipython",
    "version": 3
   },
   "file_extension": ".py",
   "mimetype": "text/x-python",
   "name": "python",
   "nbconvert_exporter": "python",
   "pygments_lexer": "ipython3",
   "version": "3.8.3"
  }
 },
 "nbformat": 4,
 "nbformat_minor": 4
}
